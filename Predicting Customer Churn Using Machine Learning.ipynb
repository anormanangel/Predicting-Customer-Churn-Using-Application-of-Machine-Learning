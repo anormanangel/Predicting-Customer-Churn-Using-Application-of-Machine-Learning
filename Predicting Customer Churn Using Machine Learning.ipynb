{
 "cells": [
  {
   "cell_type": "markdown",
   "metadata": {
    "id": "Z5H7gS2c724U"
   },
   "source": [
    "\n",
    "\n",
    "<h1 align=center><font size = 5>Application of Machine Learning in Predicting Customer Churn</font></h1>\n",
    "<h1 align=center><font size = 5>Predictive & Optimization Analytics </font></h1>\n",
    "<h1 align=center><font size = 4>By</font></h1>\n",
    "<h1 align=center><font size = 4>Norman Angel Agong</font></h1>\n",
    "<h1 align=center><font size = 4>Email: anormanangel@gmail.com</font></h1>\n",
    "</font></h1>"
   ]
  },
  {
   "cell_type": "markdown",
   "metadata": {},
   "source": [
    "<h1>Table of contents</h1>\n",
    "\n",
    "<div class=\"alert alert-block alert-info\" style=\"margin-top: 20px\">\n",
    "    <ol>\n",
    "        <li><a href=\"https://#problem\">Problem Defination</a></li>\n",
    "        <li><a href=\"https://#research_objectives\">Research Objectives</a></li>\n",
    "        <li><a href=\"https://#about_dataset\">Data Collection</a></li>\n",
    "        <li><a href=\"https://#data_cleaning\">Data cleaning and Preprocessing</a></li>\n",
    "        <li><a href=\"https://#eda\">Exploratory Data Analysis</a></li>\n",
    "        <li><a href=\"https://#modeling\">Feature Engineering</a></li>\n",
    "        <li><a href=\"https://#modeling\">Model Creation</a></li>\n",
    "        <li><a href=\"https://#evaluation\">Model Evaluation</a></li>\n",
    "        <li><a href=\"https://#optimization\">Model Optimization</a></li>\n",
    "        <li><a href=\"https://#deployment\">Model Deployment</a></li>\n",
    "    </ol>\n",
    "</div>\n",
    "<br>\n",
    "<hr>"
   ]
  },
  {
   "cell_type": "markdown",
   "metadata": {},
   "source": [
    "# Problem Defination: Customer Churn\n",
    "\n",
    "In the Tours and Travel industry, user behaviour significantly influences the transportation\n",
    "landscape. Emerging prominent players are reshaping how people travel with commitment to\n",
    "safe and reliable transportation services, Tours & Travel companies have become a preferred\n",
    "choice for daily commuting around the world. However, the companies are facing a critical\n",
    "challenge of customer churn, where users discontinue their engagement with the platform.\n",
    "\n",
    "\n",
    "Addressing this challenge is vital for sustaining growth and ensuring customer satisfaction.\n",
    "Employing a data-driven approach by implementing effective predictive model to analyse user\n",
    "behaviour patterns and implement proactive strategies to mitigate ride churn is essential for\n",
    "growth and sustainability. Identifying the factors influencing customer churn and predicting\n",
    "users at risk of churning are crucial steps in ensuring sustainability and maintaining its\n",
    "competitive edge in the Tours and Travel market."
   ]
  },
  {
   "cell_type": "markdown",
   "metadata": {},
   "source": [
    "# Objectives\n",
    "\n",
    "The main objective of this project is to develop a model that can accurately Predict customer\n",
    "churn based on customer data and relevant indicators. With this we aim to:\n",
    "1. Identify the key indicators of customer churn.\n",
    "2. Build Predictive Models to Predict customer churn for tour and travels company based on\n",
    "customer data.\n",
    "3. Utilize insights gained from the predictive model to tailor retention efforts and allocate\n",
    "resources more effectively including target marketing campaigns, personalized offers,\n",
    "enhanced customer service, or product improvements."
   ]
  },
  {
   "cell_type": "markdown",
   "metadata": {
    "id": "aF8Bn74w-jbY"
   },
   "source": [
    "<h2 id=\"about_dataset\">Description of the Data</h2>\n",
    "\n",
    "We will use a Tour & Travels Company dataset for predicting customer churn. This dataset is obtained from Kaggle for a Tours and Travel company in the United States. This is a historical customer dataset where each row represents one customer offers straightforward insights. As it is more cost-effective to retain existing customers than acquire new ones, our primary goal in this analysis is to predict which customers will remain loyal to our services.\n",
    "\n",
    "This data set will provide key indicators of customer churn allowing us to anticipate the behaviors that contribute to customer retention and predict what behavior will help us to retain customers.\n",
    "\n",
    "The dataset includes information about:\n",
    "\n",
    "*   Age of users\n",
    "*   FrequesntFlyer: Wheather customer takes frequent flights\n",
    "*   AnnualIncomeClass: Class of annual income of user\n",
    "*   ServicesOpted: Number of times services opted during recent years\n",
    "*   AccountSyncedToSocialMedia: Wheather Company Account of User is Synchronized to their Social Media\n",
    "*   BookedHotelOrNot: Wheather the customer booked lodging/Hotels using company services\n",
    "*   Target: 1 = Customers Churns, 0 = Customer Dosent Churn\n",
    "\n",
    "Link to dataseton Kaggle: https://bit.ly/3rzy2Sw\n"
   ]
  },
  {
   "cell_type": "markdown",
   "metadata": {
    "id": "PPbI0in3-jew"
   },
   "source": [
    "<h2 id=\"research_questions\">Research Questions</h2>\n",
    "\n",
    "*   What are the factors that contribute to churn?\n",
    "*   What are the key indicators of customer churn?"
   ]
  },
  {
   "cell_type": "markdown",
   "metadata": {
    "id": "9zerj5t2-jrA"
   },
   "source": [
    "<h2 id=\"assumption_and_scope\">Assumption</h2>\n",
    "\n",
    "* No unusual occurrences will have a substantial impact on the data we used (Outliers)\n",
    "\n",
    "* There are no unanticipated negative impacts to the company employing any advised technique"
   ]
  },
  {
   "cell_type": "code",
   "execution_count": 24,
   "metadata": {
    "id": "TOu-DFj-J--l"
   },
   "outputs": [],
   "source": [
    "#Importing Libraries\n",
    "import pandas as pd\n",
    "import pylab as pl\n",
    "import numpy as np\n",
    "import scipy.optimize as opt\n",
    "from sklearn import preprocessing\n",
    "%matplotlib inline\n",
    "import matplotlib.pyplot as plt\n",
    "import seaborn as sns\n",
    "\n",
    "# data pre-processing\n",
    "from sklearn.preprocessing import StandardScaler, LabelEncoder\n",
    "\n",
    "# models\n",
    "from sklearn.linear_model import LogisticRegression\n",
    "from sklearn.neighbors import KNeighborsClassifier\n",
    "from sklearn.ensemble import RandomForestClassifier, GradientBoostingClassifier\n",
    "from imblearn.ensemble import BalancedRandomForestClassifier, BalancedBaggingClassifier\n",
    "from sklearn.model_selection import train_test_split\n",
    "from sklearn.metrics import accuracy_score, classification_report, confusion_matrix"
   ]
  },
  {
   "cell_type": "code",
   "execution_count": 25,
   "metadata": {},
   "outputs": [
    {
     "name": "stdout",
     "output_type": "stream",
     "text": [
      "b'<!doctype html>\\n<html>\\n<head>\\n    <title>Example Domain</title>\\n\\n    <meta charset=\"utf-8\" />\\n    <meta http-equiv=\"Content-type\" content=\"text/html; charset=utf-8\" />\\n    <meta name=\"viewport\" content=\"width=device-width, initial-scale=1\" />\\n    <style type=\"text/css\">\\n    body {\\n        background-color: #f0f0f2;\\n        margin: 0;\\n        padding: 0;\\n        font-family: -apple-system, system-ui, BlinkMacSystemFont, \"Segoe UI\", \"Open Sans\", \"Helvetica Neue\", Helvetica, Arial, sans-serif;\\n        \\n    }\\n    div {\\n        width: 600px;\\n        margin: 5em auto;\\n        padding: 2em;\\n        background-color: #fdfdff;\\n        border-radius: 0.5em;\\n        box-shadow: 2px 3px 7px 2px rgba(0,0,0,0.02);\\n    }\\n    a:link, a:visited {\\n        color: #38488f;\\n        text-decoration: none;\\n    }\\n    @media (max-width: 700px) {\\n        div {\\n            margin: 0 auto;\\n            width: auto;\\n        }\\n    }\\n    </style>    \\n</head>\\n\\n<body>\\n<div>\\n    <h1>Example Domain</h1>\\n    <p>This domain is for use in illustrative examples in documents. You may use this\\n    domain in literature without prior coordination or asking for permission.</p>\\n    <p><a href=\"https://www.iana.org/domains/example\">More information...</a></p>\\n</div>\\n</body>\\n</html>\\n'\n"
     ]
    }
   ],
   "source": [
    "import ssl\n",
    "import urllib.request\n",
    "\n",
    "# Disable SSL certificate verification\n",
    "ssl_context = ssl.create_default_context()\n",
    "ssl_context.check_hostname = False\n",
    "ssl_context.verify_mode = ssl.CERT_NONE\n",
    "\n",
    "# Make HTTPS request with disabled SSL verification\n",
    "with urllib.request.urlopen(\"https://example.com\", context=ssl_context) as response:\n",
    "    html = response.read()\n",
    "    print(html)"
   ]
  },
  {
   "cell_type": "markdown",
   "metadata": {
    "id": "7b9gxlIEGD2w"
   },
   "source": [
    "### Load Data From CSV File\n"
   ]
  },
  {
   "cell_type": "code",
   "execution_count": 26,
   "metadata": {
    "colab": {
     "base_uri": "https://localhost:8080/",
     "height": 206
    },
    "id": "xlGzjS3EGBAC",
    "outputId": "cbc8e7ac-f377-413e-a5a0-17429245dead"
   },
   "outputs": [
    {
     "data": {
      "text/html": [
       "<div>\n",
       "<style scoped>\n",
       "    .dataframe tbody tr th:only-of-type {\n",
       "        vertical-align: middle;\n",
       "    }\n",
       "\n",
       "    .dataframe tbody tr th {\n",
       "        vertical-align: top;\n",
       "    }\n",
       "\n",
       "    .dataframe thead th {\n",
       "        text-align: right;\n",
       "    }\n",
       "</style>\n",
       "<table border=\"1\" class=\"dataframe\">\n",
       "  <thead>\n",
       "    <tr style=\"text-align: right;\">\n",
       "      <th></th>\n",
       "      <th>Age</th>\n",
       "      <th>FrequentFlyer</th>\n",
       "      <th>AnnualIncomeClass</th>\n",
       "      <th>ServicesOpted</th>\n",
       "      <th>AccountSyncedToSocialMedia</th>\n",
       "      <th>BookedHotelOrNot</th>\n",
       "      <th>Target</th>\n",
       "    </tr>\n",
       "  </thead>\n",
       "  <tbody>\n",
       "    <tr>\n",
       "      <th>0</th>\n",
       "      <td>34</td>\n",
       "      <td>No</td>\n",
       "      <td>Middle Income</td>\n",
       "      <td>6</td>\n",
       "      <td>No</td>\n",
       "      <td>Yes</td>\n",
       "      <td>0</td>\n",
       "    </tr>\n",
       "    <tr>\n",
       "      <th>1</th>\n",
       "      <td>34</td>\n",
       "      <td>Yes</td>\n",
       "      <td>Low Income</td>\n",
       "      <td>5</td>\n",
       "      <td>Yes</td>\n",
       "      <td>No</td>\n",
       "      <td>1</td>\n",
       "    </tr>\n",
       "    <tr>\n",
       "      <th>2</th>\n",
       "      <td>37</td>\n",
       "      <td>No</td>\n",
       "      <td>Middle Income</td>\n",
       "      <td>3</td>\n",
       "      <td>Yes</td>\n",
       "      <td>No</td>\n",
       "      <td>0</td>\n",
       "    </tr>\n",
       "    <tr>\n",
       "      <th>3</th>\n",
       "      <td>30</td>\n",
       "      <td>No</td>\n",
       "      <td>Middle Income</td>\n",
       "      <td>2</td>\n",
       "      <td>No</td>\n",
       "      <td>No</td>\n",
       "      <td>0</td>\n",
       "    </tr>\n",
       "    <tr>\n",
       "      <th>4</th>\n",
       "      <td>30</td>\n",
       "      <td>No</td>\n",
       "      <td>Low Income</td>\n",
       "      <td>1</td>\n",
       "      <td>No</td>\n",
       "      <td>No</td>\n",
       "      <td>0</td>\n",
       "    </tr>\n",
       "  </tbody>\n",
       "</table>\n",
       "</div>"
      ],
      "text/plain": [
       "   Age FrequentFlyer AnnualIncomeClass  ServicesOpted  \\\n",
       "0   34            No     Middle Income              6   \n",
       "1   34           Yes        Low Income              5   \n",
       "2   37            No     Middle Income              3   \n",
       "3   30            No     Middle Income              2   \n",
       "4   30            No        Low Income              1   \n",
       "\n",
       "  AccountSyncedToSocialMedia BookedHotelOrNot  Target  \n",
       "0                         No              Yes       0  \n",
       "1                        Yes               No       1  \n",
       "2                        Yes               No       0  \n",
       "3                         No               No       0  \n",
       "4                         No               No       0  "
      ]
     },
     "execution_count": 26,
     "metadata": {},
     "output_type": "execute_result"
    }
   ],
   "source": [
    "df = pd.read_csv(\"https://raw.githubusercontent.com/anormanangel/Datasets/main/Customertravel.csv\")\n",
    "df.head()"
   ]
  },
  {
   "cell_type": "markdown",
   "metadata": {},
   "source": [
    "# Data Cleaning & Preprocessing \n",
    "\n",
    " - Data Formating\n",
    " - Detect and Treat Missing Nos\n",
    " - Outlier Detection and Handling\n",
    " - Dealing with Duplicates\n",
    " - Handling Inconsistent Data\n",
    " - Dealing with Data Redundancy\n",
    " - Handling Inconsistent Naming Conventions"
   ]
  },
  {
   "cell_type": "code",
   "execution_count": 27,
   "metadata": {},
   "outputs": [],
   "source": [
    "# rename churn column for clarity\n",
    "\n",
    "df.rename(columns={'Target': 'Churn'}, inplace=True)"
   ]
  },
  {
   "cell_type": "code",
   "execution_count": 28,
   "metadata": {},
   "outputs": [
    {
     "name": "stdout",
     "output_type": "stream",
     "text": [
      "<class 'pandas.core.frame.DataFrame'>\n",
      "RangeIndex: 954 entries, 0 to 953\n",
      "Data columns (total 7 columns):\n",
      " #   Column                      Non-Null Count  Dtype \n",
      "---  ------                      --------------  ----- \n",
      " 0   Age                         954 non-null    int64 \n",
      " 1   FrequentFlyer               954 non-null    object\n",
      " 2   AnnualIncomeClass           954 non-null    object\n",
      " 3   ServicesOpted               954 non-null    int64 \n",
      " 4   AccountSyncedToSocialMedia  954 non-null    object\n",
      " 5   BookedHotelOrNot            954 non-null    object\n",
      " 6   Churn                       954 non-null    int64 \n",
      "dtypes: int64(3), object(4)\n",
      "memory usage: 52.3+ KB\n"
     ]
    }
   ],
   "source": [
    "# Check the format\n",
    "\n",
    "df.info()"
   ]
  },
  {
   "cell_type": "code",
   "execution_count": 29,
   "metadata": {},
   "outputs": [
    {
     "data": {
      "text/plain": [
       "Age                           0\n",
       "FrequentFlyer                 0\n",
       "AnnualIncomeClass             0\n",
       "ServicesOpted                 0\n",
       "AccountSyncedToSocialMedia    0\n",
       "BookedHotelOrNot              0\n",
       "Churn                         0\n",
       "dtype: int64"
      ]
     },
     "execution_count": 29,
     "metadata": {},
     "output_type": "execute_result"
    }
   ],
   "source": [
    "# Check for null values in the DataFrame\n",
    "\n",
    "df.isnull().sum()"
   ]
  },
  {
   "cell_type": "code",
   "execution_count": 7,
   "metadata": {},
   "outputs": [
    {
     "data": {
      "image/png": "[encoded data removed]",
      "text/plain": [
       "<Figure size 576x432 with 3 Axes>"
      ]
     },
     "metadata": {
      "needs_background": "light"
     },
     "output_type": "display_data"
    }
   ],
   "source": [
    "# check for missing Nos\n",
    "\n",
    "import missingno as mn\n",
    "\n",
    "# Assuming df is your DataFrame\n",
    "fig, ax = plt.subplots(figsize=(8, 6))  # Adjust the values (width, height) as needed\n",
    "mn.bar(df, ax=ax)\n",
    "\n",
    "# Show the plot\n",
    "plt.show()"
   ]
  },
  {
   "cell_type": "code",
   "execution_count": 30,
   "metadata": {
    "id": "fyfDhrndH2lE"
   },
   "outputs": [
    {
     "data": {
      "image/png": "[encoded data removed]",
      "text/plain": [
       "<Figure size 432x288 with 1 Axes>"
      ]
     },
     "metadata": {
      "needs_background": "light"
     },
     "output_type": "display_data"
    },
    {
     "data": {
      "image/png": "[encoded data removed]",
      "text/plain": [
       "<Figure size 432x288 with 1 Axes>"
      ]
     },
     "metadata": {
      "needs_background": "light"
     },
     "output_type": "display_data"
    },
    {
     "data": {
      "image/png": "[encoded data removed]",
      "text/plain": [
       "<Figure size 432x288 with 1 Axes>"
      ]
     },
     "metadata": {
      "needs_background": "light"
     },
     "output_type": "display_data"
    }
   ],
   "source": [
    "# Check for Outliers\n",
    "\n",
    "numerical_columns = df.select_dtypes(include=['float', 'int']).columns.tolist()\n",
    "\n",
    "# Loop through numerical columns\n",
    "for col in numerical_columns:\n",
    "    # Exclude 'year' from box plots\n",
    "    if col != 'year':\n",
    "        # Create a box plot\n",
    "        sns.boxplot(x=df[col])\n",
    "        \n",
    "        # Set title and labels\n",
    "        plt.title(f'Boxplot for {col}')\n",
    "        plt.xlabel(col)\n",
    "        \n",
    "        # Display the plot\n",
    "        plt.show()"
   ]
  },
  {
   "cell_type": "markdown",
   "metadata": {
    "id": "44N959vDtpsn"
   },
   "source": [
    "# Exploratory Data Analysis"
   ]
  },
  {
   "cell_type": "code",
   "execution_count": 31,
   "metadata": {
    "colab": {
     "base_uri": "https://localhost:8080/"
    },
    "id": "51GKKu0dGNnL",
    "outputId": "4bdd165e-8517-47d3-bb44-0b7d16af45e1"
   },
   "outputs": [
    {
     "data": {
      "text/plain": [
       "(954, 7)"
      ]
     },
     "execution_count": 31,
     "metadata": {},
     "output_type": "execute_result"
    }
   ],
   "source": [
    "df.shape"
   ]
  },
  {
   "cell_type": "code",
   "execution_count": 32,
   "metadata": {
    "colab": {
     "base_uri": "https://localhost:8080/",
     "height": 175
    },
    "id": "my2CV4RoQdF1",
    "outputId": "28a64c59-1230-4ba2-fc64-b14796814886"
   },
   "outputs": [
    {
     "data": {
      "text/html": [
       "<div>\n",
       "<style scoped>\n",
       "    .dataframe tbody tr th:only-of-type {\n",
       "        vertical-align: middle;\n",
       "    }\n",
       "\n",
       "    .dataframe tbody tr th {\n",
       "        vertical-align: top;\n",
       "    }\n",
       "\n",
       "    .dataframe thead tr th {\n",
       "        text-align: left;\n",
       "    }\n",
       "\n",
       "    .dataframe thead tr:last-of-type th {\n",
       "        text-align: right;\n",
       "    }\n",
       "</style>\n",
       "<table border=\"1\" class=\"dataframe\">\n",
       "  <thead>\n",
       "    <tr>\n",
       "      <th></th>\n",
       "      <th colspan=\"8\" halign=\"left\">Age</th>\n",
       "      <th colspan=\"8\" halign=\"left\">ServicesOpted</th>\n",
       "    </tr>\n",
       "    <tr>\n",
       "      <th></th>\n",
       "      <th>count</th>\n",
       "      <th>mean</th>\n",
       "      <th>std</th>\n",
       "      <th>min</th>\n",
       "      <th>25%</th>\n",
       "      <th>50%</th>\n",
       "      <th>75%</th>\n",
       "      <th>max</th>\n",
       "      <th>count</th>\n",
       "      <th>mean</th>\n",
       "      <th>std</th>\n",
       "      <th>min</th>\n",
       "      <th>25%</th>\n",
       "      <th>50%</th>\n",
       "      <th>75%</th>\n",
       "      <th>max</th>\n",
       "    </tr>\n",
       "    <tr>\n",
       "      <th>Churn</th>\n",
       "      <th></th>\n",
       "      <th></th>\n",
       "      <th></th>\n",
       "      <th></th>\n",
       "      <th></th>\n",
       "      <th></th>\n",
       "      <th></th>\n",
       "      <th></th>\n",
       "      <th></th>\n",
       "      <th></th>\n",
       "      <th></th>\n",
       "      <th></th>\n",
       "      <th></th>\n",
       "      <th></th>\n",
       "      <th></th>\n",
       "      <th></th>\n",
       "    </tr>\n",
       "  </thead>\n",
       "  <tbody>\n",
       "    <tr>\n",
       "      <th>0</th>\n",
       "      <td>730.0</td>\n",
       "      <td>32.352055</td>\n",
       "      <td>3.209323</td>\n",
       "      <td>27.0</td>\n",
       "      <td>30.0</td>\n",
       "      <td>31.0</td>\n",
       "      <td>35.0</td>\n",
       "      <td>38.0</td>\n",
       "      <td>730.0</td>\n",
       "      <td>2.402740</td>\n",
       "      <td>1.554495</td>\n",
       "      <td>1.0</td>\n",
       "      <td>1.0</td>\n",
       "      <td>2.0</td>\n",
       "      <td>3.0</td>\n",
       "      <td>6.0</td>\n",
       "    </tr>\n",
       "    <tr>\n",
       "      <th>1</th>\n",
       "      <td>224.0</td>\n",
       "      <td>31.316964</td>\n",
       "      <td>3.620133</td>\n",
       "      <td>27.0</td>\n",
       "      <td>28.0</td>\n",
       "      <td>30.0</td>\n",
       "      <td>35.0</td>\n",
       "      <td>38.0</td>\n",
       "      <td>224.0</td>\n",
       "      <td>2.549107</td>\n",
       "      <td>1.763430</td>\n",
       "      <td>1.0</td>\n",
       "      <td>1.0</td>\n",
       "      <td>2.0</td>\n",
       "      <td>4.0</td>\n",
       "      <td>6.0</td>\n",
       "    </tr>\n",
       "  </tbody>\n",
       "</table>\n",
       "</div>"
      ],
      "text/plain": [
       "         Age                                                    ServicesOpted  \\\n",
       "       count       mean       std   min   25%   50%   75%   max         count   \n",
       "Churn                                                                           \n",
       "0      730.0  32.352055  3.209323  27.0  30.0  31.0  35.0  38.0         730.0   \n",
       "1      224.0  31.316964  3.620133  27.0  28.0  30.0  35.0  38.0         224.0   \n",
       "\n",
       "                                                    \n",
       "           mean       std  min  25%  50%  75%  max  \n",
       "Churn                                               \n",
       "0      2.402740  1.554495  1.0  1.0  2.0  3.0  6.0  \n",
       "1      2.549107  1.763430  1.0  1.0  2.0  4.0  6.0  "
      ]
     },
     "execution_count": 32,
     "metadata": {},
     "output_type": "execute_result"
    }
   ],
   "source": [
    "#Summary of statistics separately for each group defined by the 'Churn' column\n",
    "\n",
    "df.groupby('Churn').describe()"
   ]
  },
  {
   "cell_type": "code",
   "execution_count": 33,
   "metadata": {
    "colab": {
     "base_uri": "https://localhost:8080/",
     "height": 161
    },
    "id": "wlXKuhiYFcHb",
    "outputId": "d90e8870-04a0-4e47-8e5d-c1d39e755b03"
   },
   "outputs": [
    {
     "name": "stdout",
     "output_type": "stream",
     "text": [
      "Statistical Summary\n"
     ]
    },
    {
     "data": {
      "text/html": [
       "<div>\n",
       "<style scoped>\n",
       "    .dataframe tbody tr th:only-of-type {\n",
       "        vertical-align: middle;\n",
       "    }\n",
       "\n",
       "    .dataframe tbody tr th {\n",
       "        vertical-align: top;\n",
       "    }\n",
       "\n",
       "    .dataframe thead th {\n",
       "        text-align: right;\n",
       "    }\n",
       "</style>\n",
       "<table border=\"1\" class=\"dataframe\">\n",
       "  <thead>\n",
       "    <tr style=\"text-align: right;\">\n",
       "      <th></th>\n",
       "      <th>count</th>\n",
       "      <th>mean</th>\n",
       "      <th>std</th>\n",
       "      <th>min</th>\n",
       "      <th>25%</th>\n",
       "      <th>50%</th>\n",
       "      <th>75%</th>\n",
       "      <th>max</th>\n",
       "    </tr>\n",
       "  </thead>\n",
       "  <tbody>\n",
       "    <tr>\n",
       "      <th>Age</th>\n",
       "      <td>954.0</td>\n",
       "      <td>32.109015</td>\n",
       "      <td>3.337388</td>\n",
       "      <td>27.0</td>\n",
       "      <td>30.0</td>\n",
       "      <td>31.0</td>\n",
       "      <td>35.0</td>\n",
       "      <td>38.0</td>\n",
       "    </tr>\n",
       "    <tr>\n",
       "      <th>ServicesOpted</th>\n",
       "      <td>954.0</td>\n",
       "      <td>2.437107</td>\n",
       "      <td>1.606233</td>\n",
       "      <td>1.0</td>\n",
       "      <td>1.0</td>\n",
       "      <td>2.0</td>\n",
       "      <td>4.0</td>\n",
       "      <td>6.0</td>\n",
       "    </tr>\n",
       "    <tr>\n",
       "      <th>Churn</th>\n",
       "      <td>954.0</td>\n",
       "      <td>0.234801</td>\n",
       "      <td>0.424097</td>\n",
       "      <td>0.0</td>\n",
       "      <td>0.0</td>\n",
       "      <td>0.0</td>\n",
       "      <td>0.0</td>\n",
       "      <td>1.0</td>\n",
       "    </tr>\n",
       "  </tbody>\n",
       "</table>\n",
       "</div>"
      ],
      "text/plain": [
       "               count       mean       std   min   25%   50%   75%   max\n",
       "Age            954.0  32.109015  3.337388  27.0  30.0  31.0  35.0  38.0\n",
       "ServicesOpted  954.0   2.437107  1.606233   1.0   1.0   2.0   4.0   6.0\n",
       "Churn          954.0   0.234801  0.424097   0.0   0.0   0.0   0.0   1.0"
      ]
     },
     "execution_count": 33,
     "metadata": {},
     "output_type": "execute_result"
    }
   ],
   "source": [
    "#Assess the distribution and characteristics of numerical data in the dataset\n",
    "\n",
    "print(\"Statistical Summary\")\n",
    "df.describe().T"
   ]
  },
  {
   "cell_type": "code",
   "execution_count": 34,
   "metadata": {
    "colab": {
     "base_uri": "https://localhost:8080/",
     "height": 175
    },
    "id": "f8jovZdUFcK9",
    "outputId": "656adbe8-f620-42ab-f214-5b4a7bb63d04"
   },
   "outputs": [
    {
     "data": {
      "text/html": [
       "<div>\n",
       "<style scoped>\n",
       "    .dataframe tbody tr th:only-of-type {\n",
       "        vertical-align: middle;\n",
       "    }\n",
       "\n",
       "    .dataframe tbody tr th {\n",
       "        vertical-align: top;\n",
       "    }\n",
       "\n",
       "    .dataframe thead th {\n",
       "        text-align: right;\n",
       "    }\n",
       "</style>\n",
       "<table border=\"1\" class=\"dataframe\">\n",
       "  <thead>\n",
       "    <tr style=\"text-align: right;\">\n",
       "      <th></th>\n",
       "      <th>FrequentFlyer</th>\n",
       "      <th>AnnualIncomeClass</th>\n",
       "      <th>AccountSyncedToSocialMedia</th>\n",
       "      <th>BookedHotelOrNot</th>\n",
       "    </tr>\n",
       "  </thead>\n",
       "  <tbody>\n",
       "    <tr>\n",
       "      <th>count</th>\n",
       "      <td>954</td>\n",
       "      <td>954</td>\n",
       "      <td>954</td>\n",
       "      <td>954</td>\n",
       "    </tr>\n",
       "    <tr>\n",
       "      <th>unique</th>\n",
       "      <td>3</td>\n",
       "      <td>3</td>\n",
       "      <td>2</td>\n",
       "      <td>2</td>\n",
       "    </tr>\n",
       "    <tr>\n",
       "      <th>top</th>\n",
       "      <td>No</td>\n",
       "      <td>Middle Income</td>\n",
       "      <td>No</td>\n",
       "      <td>No</td>\n",
       "    </tr>\n",
       "    <tr>\n",
       "      <th>freq</th>\n",
       "      <td>608</td>\n",
       "      <td>409</td>\n",
       "      <td>594</td>\n",
       "      <td>576</td>\n",
       "    </tr>\n",
       "  </tbody>\n",
       "</table>\n",
       "</div>"
      ],
      "text/plain": [
       "       FrequentFlyer AnnualIncomeClass AccountSyncedToSocialMedia  \\\n",
       "count            954               954                        954   \n",
       "unique             3                 3                          2   \n",
       "top               No     Middle Income                         No   \n",
       "freq             608               409                        594   \n",
       "\n",
       "       BookedHotelOrNot  \n",
       "count               954  \n",
       "unique                2  \n",
       "top                  No  \n",
       "freq                576  "
      ]
     },
     "execution_count": 34,
     "metadata": {},
     "output_type": "execute_result"
    }
   ],
   "source": [
    "#Understanding the distribution of categorical data in your dataset\n",
    "\n",
    "df.describe(include = 'object')"
   ]
  },
  {
   "cell_type": "code",
   "execution_count": 35,
   "metadata": {
    "colab": {
     "base_uri": "https://localhost:8080/",
     "height": 199
    },
    "id": "VK3vUUsSFcU5",
    "outputId": "e5ad2887-5417-4a11-e6b9-172cecd8be47"
   },
   "outputs": [
    {
     "name": "stdout",
     "output_type": "stream",
     "text": [
      "                    Age  ServicesOpted     Churn\n",
      "Age            1.000000      -0.012422 -0.131534\n",
      "ServicesOpted -0.012422       1.000000  0.038646\n",
      "Churn         -0.131534       0.038646  1.000000\n"
     ]
    }
   ],
   "source": [
    "# Calculate the correlation coefficients between all pairs of numerical columns in the DataFrame.\n",
    "\n",
    "correlation_matrix = df[['Age', 'ServicesOpted', 'Churn']].corr()\n",
    "print(correlation_matrix)"
   ]
  },
  {
   "cell_type": "markdown",
   "metadata": {},
   "source": [
    "1. Age vs. Age (-0.012422):\n",
    "There is little to no linear relationship between the age of customers and their own age, which is expected.\n",
    "The correlation coefficient is very close to zero, indicating weak correlation.\n",
    "\n",
    "2. Age vs. ServicesOpted (-0.131534):\n",
    "There is a slight negative correlation between the age of customers and the number of services opted for.\n",
    "As the age of customers increases, the number of services opted for tends to slightly decrease, and vice versa.\n",
    "The correlation is relatively weak.\n",
    "\n",
    "3. Age vs. Churn (-0.131534):\n",
    "There is a slight negative correlation between the age of customers and their likelihood of churn.\n",
    "As the age of customers increases, their likelihood of churn slightly decreases, and vice versa.\n",
    "The correlation is relatively weak.\n",
    "\n",
    "4. ServicesOpted vs. ServicesOpted (0.038646):\n",
    "There is little to no linear relationship between the number of services opted for and itself.\n",
    "The correlation coefficient is close to zero, indicating weak correlation.\n",
    "\n",
    "5. ServicesOpted vs. Churn (0.038646):\n",
    "There is a slight positive correlation between the number of services opted for and the likelihood of churn.\n",
    "Customers who opt for more services tend to have a slightly higher likelihood of churn.\n",
    "The correlation is relatively weak.\n",
    "\n",
    "6. Churn vs. Churn (1.000000):\n",
    "This coefficient is always 1 since it measures the correlation of 'Churn' with itself.\n",
    "It simply reflects the proportion of churned customers in the dataset."
   ]
  },
  {
   "cell_type": "markdown",
   "metadata": {},
   "source": [
    "## Univeriate Analysis\n",
    "\n",
    "We'll explore each variable individually to understand its distribution and characteristics."
   ]
  },
  {
   "cell_type": "code",
   "execution_count": 36,
   "metadata": {},
   "outputs": [
    {
     "data": {
      "image/png": "[encoded data removed]",
      "text/plain": [
       "<Figure size 720x432 with 1 Axes>"
      ]
     },
     "metadata": {
      "needs_background": "light"
     },
     "output_type": "display_data"
    }
   ],
   "source": [
    "# Check distribution of Churn Column\n",
    "\n",
    "# Set the size of the figure\n",
    "plt.figure(figsize=(10, 6))\n",
    "\n",
    "# Plot the countplot for the distribution of Churn column\n",
    "ax = sns.countplot(data=df, x='Churn')\n",
    "percentage = df['Churn'].value_counts(normalize=True).values * 100\n",
    "lbls = [f'{p:.1f}%' for p in percentage]\n",
    "\n",
    "# Add percentage labels to the bars\n",
    "ax.bar_label(container=ax.containers[0], labels=lbls)\n",
    "\n",
    "# Adjust y-axis limit for better visualization\n",
    "plt.ylim(top=800)\n",
    "\n",
    "# Add title and labels\n",
    "plt.title('Churned (0=no, 1=yes)')\n",
    "plt.xlabel('Churn')\n",
    "plt.ylabel('Count')\n",
    "\n",
    "# Display the plot\n",
    "plt.show()"
   ]
  },
  {
   "cell_type": "markdown",
   "metadata": {
    "id": "3gyY_jtLGtbG"
   },
   "source": [
    "The data is unbalanced, as around 76.5% are customers in the \"no-churn\" class (modest class imbalance 3:1), which needs to be taken into account when training and evaluating the models."
   ]
  },
  {
   "cell_type": "markdown",
   "metadata": {},
   "source": [
    "## Bivariate\n",
    "\n",
    "For bivariate analysis, we'll explore the relationships between pairs of variables."
   ]
  },
  {
   "cell_type": "code",
   "execution_count": 37,
   "metadata": {},
   "outputs": [
    {
     "data": {
      "image/png": "[encoded data removed]",
      "text/plain": [
       "<Figure size 864x576 with 1 Axes>"
      ]
     },
     "metadata": {
      "needs_background": "light"
     },
     "output_type": "display_data"
    }
   ],
   "source": [
    "# Churn vs Age\n",
    "\n",
    "# Set the size of the figure\n",
    "plt.figure(figsize=(12, 8))\n",
    "\n",
    "# Plot the countplot for Churn vs Age\n",
    "sns.countplot(data=df, x='Age', hue='Churn')\n",
    "plt.title('Churn by Age')\n",
    "plt.xlabel('Age')\n",
    "plt.ylabel('Count')\n",
    "\n",
    "# Display the plot\n",
    "plt.show()"
   ]
  },
  {
   "cell_type": "markdown",
   "metadata": {
    "id": "v3tviHGYGxvR"
   },
   "source": [
    "It looks like younger customers (27-28y) tend to churn proportionally more often."
   ]
  },
  {
   "cell_type": "code",
   "execution_count": 38,
   "metadata": {
    "colab": {
     "base_uri": "https://localhost:8080/",
     "height": 472
    },
    "id": "EkIkSPUSuDpz",
    "outputId": "5365ac65-6105-4536-a947-ddd8a08daf4a"
   },
   "outputs": [
    {
     "data": {
      "image/png": "[encoded data removed]",
      "text/plain": [
       "<Figure size 720x432 with 1 Axes>"
      ]
     },
     "metadata": {
      "needs_background": "light"
     },
     "output_type": "display_data"
    }
   ],
   "source": [
    "# Churn vs Services Opted\n",
    "\n",
    "# Increase the size of the figure\n",
    "plt.figure(figsize=(10, 6))\n",
    "\n",
    "# Plot the countplot for Churn by Services Opted\n",
    "sns.countplot(data=df, x='ServicesOpted', hue='Churn')\n",
    "plt.title('Churn by Services Opted')\n",
    "plt.xlabel('Services Opted')\n",
    "plt.ylabel('Count')\n",
    "\n",
    "# Display the plot\n",
    "plt.show()"
   ]
  },
  {
   "cell_type": "markdown",
   "metadata": {
    "id": "B0pBJ3LO2l31"
   },
   "source": [
    "Customers who opted for more services (5+) churned more than those opted for a few services"
   ]
  },
  {
   "cell_type": "code",
   "execution_count": 39,
   "metadata": {
    "colab": {
     "base_uri": "https://localhost:8080/",
     "height": 472
    },
    "id": "tonW7WViuOFc",
    "outputId": "93178775-7477-4148-ff1e-c185eea45406"
   },
   "outputs": [
    {
     "data": {
      "image/png": "[encoded data removed]",
      "text/plain": [
       "<Figure size 720x432 with 1 Axes>"
      ]
     },
     "metadata": {
      "needs_background": "light"
     },
     "output_type": "display_data"
    }
   ],
   "source": [
    "#Churn vs Frequent Flyer\n",
    "\n",
    "# Increase the size of the figure\n",
    "plt.figure(figsize=(10, 6))\n",
    "\n",
    "# Plot the countplot for Churn by Frequent Flyer Status\n",
    "sns.countplot(data=df, x='FrequentFlyer', hue='Churn')\n",
    "plt.title('Churn by Frequent Flyer Status')\n",
    "plt.xlabel('Frequent Flyer Status')\n",
    "plt.ylabel('Count')\n",
    "\n",
    "# Display the plot\n",
    "plt.show()"
   ]
  },
  {
   "cell_type": "markdown",
   "metadata": {
    "id": "sNE_dM1sG1x3"
   },
   "source": [
    "It looks like frequent flyers churn more than non-frequent flyers."
   ]
  },
  {
   "cell_type": "code",
   "execution_count": 40,
   "metadata": {
    "colab": {
     "base_uri": "https://localhost:8080/",
     "height": 472
    },
    "id": "PV62mkn4uRqi",
    "outputId": "c3f9e8fd-fd8f-468c-ba8a-d0df60ee9492"
   },
   "outputs": [
    {
     "data": {
      "image/png": "[encoded data removed]",
      "text/plain": [
       "<Figure size 720x432 with 1 Axes>"
      ]
     },
     "metadata": {
      "needs_background": "light"
     },
     "output_type": "display_data"
    }
   ],
   "source": [
    "#Churn vs Annual Income class\n",
    "\n",
    "# Set the size of the figure\n",
    "plt.figure(figsize=(10, 6))\n",
    "\n",
    "# Plot the countplot for Churn vs Annual Income Class\n",
    "sns.countplot(data=df, x='AnnualIncomeClass', order=['Low Income', 'Middle Income', 'High Income'], hue='Churn')\n",
    "plt.title('Churn by Annual Income Class')\n",
    "plt.xlabel('Annual Income Class')\n",
    "plt.ylabel('Count')\n",
    "\n",
    "# Display the plot\n",
    "plt.show()"
   ]
  },
  {
   "cell_type": "markdown",
   "metadata": {
    "id": "CRUGEhNgG5b7"
   },
   "source": [
    "It appears that high income individuals churn more than low and middle income classes."
   ]
  },
  {
   "cell_type": "code",
   "execution_count": 41,
   "metadata": {
    "colab": {
     "base_uri": "https://localhost:8080/",
     "height": 472
    },
    "id": "9cbBdG7yuWET",
    "outputId": "86dbdc17-3a94-4360-a102-3ff57ceae2ae"
   },
   "outputs": [
    {
     "data": {
      "image/png": "[encoded data removed]",
      "text/plain": [
       "<Figure size 720x432 with 1 Axes>"
      ]
     },
     "metadata": {
      "needs_background": "light"
     },
     "output_type": "display_data"
    }
   ],
   "source": [
    "#Churn bs Account Synced to Social Media\n",
    "\n",
    "# Set the size of the figure\n",
    "plt.figure(figsize=(10, 6))\n",
    "\n",
    "# Plot the countplot for Churn vs Account Synced To Social media\n",
    "sns.countplot(data=df, x='AccountSyncedToSocialMedia', hue='Churn')\n",
    "plt.title('Churn by Account Synced To Social Media')\n",
    "plt.xlabel('Account Synced To Social Media')\n",
    "plt.ylabel('Count')\n",
    "\n",
    "# Display the plot\n",
    "plt.show()"
   ]
  },
  {
   "cell_type": "code",
   "execution_count": 42,
   "metadata": {},
   "outputs": [
    {
     "data": {
      "image/png": "[encoded data removed]",
      "text/plain": [
       "<Figure size 720x432 with 1 Axes>"
      ]
     },
     "metadata": {
      "needs_background": "light"
     },
     "output_type": "display_data"
    }
   ],
   "source": [
    "#Churn bs Hotel Booked\n",
    "\n",
    "# Set the size of the figure\n",
    "plt.figure(figsize=(10, 6))\n",
    "\n",
    "# Plot the countplot for Churn vs Hotel Booked\n",
    "sns.countplot(data=df, x='BookedHotelOrNot', hue='Churn')\n",
    "plt.title('Churn by Booked Hotel')\n",
    "plt.xlabel('Booked Hotel')\n",
    "plt.ylabel('Count')\n",
    "\n",
    "# Display the plot\n",
    "plt.show()"
   ]
  },
  {
   "cell_type": "markdown",
   "metadata": {},
   "source": [
    "## Multivariate\n",
    "\n",
    "For multivariate analysis, we'll examine relationships between three or more variables"
   ]
  },
  {
   "cell_type": "code",
   "execution_count": 43,
   "metadata": {},
   "outputs": [
    {
     "data": {
      "image/png": "[encoded data removed]",
      "text/plain": [
       "<Figure size 720x432 with 1 Axes>"
      ]
     },
     "metadata": {
      "needs_background": "light"
     },
     "output_type": "display_data"
    }
   ],
   "source": [
    "#Chur vs Age Vs Income Class\n",
    "\n",
    "# Scatter plot for Churn, Age, and Income level\n",
    "plt.figure(figsize=(10, 6))\n",
    "sns.scatterplot(data=df, x='Age', y='AnnualIncomeClass', hue='Churn', palette='coolwarm')\n",
    "plt.title('Churn vs and Income Level')\n",
    "plt.xlabel('Age')\n",
    "plt.ylabel('Annual Income Class')\n",
    "plt.legend(title='Churn', loc='upper right')\n",
    "plt.show()"
   ]
  },
  {
   "cell_type": "markdown",
   "metadata": {
    "id": "SifdqxhcuvcD"
   },
   "source": [
    "# Feature Enconding"
   ]
  },
  {
   "cell_type": "code",
   "execution_count": 44,
   "metadata": {
    "id": "VRFEA7DMu_o3"
   },
   "outputs": [],
   "source": [
    "# create copy for encoding\n",
    "\n",
    "df_coded = df.copy()"
   ]
  },
  {
   "cell_type": "code",
   "execution_count": 45,
   "metadata": {
    "id": "PKcmzFSUvDQC"
   },
   "outputs": [],
   "source": [
    "# Label Encoding ordinal features for services\n",
    "\n",
    "ordinals = ['ServicesOpted']\n",
    "df_coded[ordinals] = df_coded[ordinals].apply(LabelEncoder().fit_transform)"
   ]
  },
  {
   "cell_type": "code",
   "execution_count": 46,
   "metadata": {
    "id": "R25kgwCnvGuw"
   },
   "outputs": [
    {
     "name": "stderr",
     "output_type": "stream",
     "text": [
      "/var/folders/vq/zctkzbys72vgrrtgd956531m0000gn/T/ipykernel_2200/2081591897.py:3: FutureWarning: Downcasting behavior in `replace` is deprecated and will be removed in a future version. To retain the old behavior, explicitly call `result.infer_objects(copy=False)`. To opt-in to the future behavior, set `pd.set_option('future.no_silent_downcasting', True)`\n",
      "  df_coded = df_coded.replace({'AnnualIncomeClass': {'Low Income': 0, 'Middle Income': 1, 'High Income': 2}})\n"
     ]
    }
   ],
   "source": [
    "#Manually adapt scaling for Annual Income Class as we need to implement the ordinal scale in order to get correct scaling\n",
    "\n",
    "df_coded = df_coded.replace({'AnnualIncomeClass': {'Low Income': 0, 'Middle Income': 1, 'High Income': 2}})"
   ]
  },
  {
   "cell_type": "code",
   "execution_count": 47,
   "metadata": {
    "id": "1In_Q0OAvG1w"
   },
   "outputs": [],
   "source": [
    "# One-Hot Encoding non-ordinal features\n",
    "\n",
    "dummies = ['BookedHotelOrNot', 'AccountSyncedToSocialMedia', 'FrequentFlyer']\n",
    "df_coded = pd.get_dummies(df_coded, columns = dummies, drop_first=True)"
   ]
  },
  {
   "cell_type": "code",
   "execution_count": 48,
   "metadata": {
    "colab": {
     "base_uri": "https://localhost:8080/",
     "height": 206
    },
    "id": "ohearJY-vG8V",
    "outputId": "6a46ec4b-927b-491e-db67-5fe6521d79ca"
   },
   "outputs": [
    {
     "data": {
      "text/html": [
       "<div>\n",
       "<style scoped>\n",
       "    .dataframe tbody tr th:only-of-type {\n",
       "        vertical-align: middle;\n",
       "    }\n",
       "\n",
       "    .dataframe tbody tr th {\n",
       "        vertical-align: top;\n",
       "    }\n",
       "\n",
       "    .dataframe thead th {\n",
       "        text-align: right;\n",
       "    }\n",
       "</style>\n",
       "<table border=\"1\" class=\"dataframe\">\n",
       "  <thead>\n",
       "    <tr style=\"text-align: right;\">\n",
       "      <th></th>\n",
       "      <th>Age</th>\n",
       "      <th>AnnualIncomeClass</th>\n",
       "      <th>ServicesOpted</th>\n",
       "      <th>Churn</th>\n",
       "      <th>BookedHotel</th>\n",
       "      <th>AccountSyncedToSocialMedia</th>\n",
       "      <th>FrequentFlyer_No</th>\n",
       "      <th>FrequentFlyer_Yes</th>\n",
       "    </tr>\n",
       "  </thead>\n",
       "  <tbody>\n",
       "    <tr>\n",
       "      <th>0</th>\n",
       "      <td>34</td>\n",
       "      <td>1</td>\n",
       "      <td>5</td>\n",
       "      <td>0</td>\n",
       "      <td>True</td>\n",
       "      <td>False</td>\n",
       "      <td>False</td>\n",
       "      <td>False</td>\n",
       "    </tr>\n",
       "    <tr>\n",
       "      <th>1</th>\n",
       "      <td>34</td>\n",
       "      <td>0</td>\n",
       "      <td>4</td>\n",
       "      <td>1</td>\n",
       "      <td>False</td>\n",
       "      <td>True</td>\n",
       "      <td>False</td>\n",
       "      <td>True</td>\n",
       "    </tr>\n",
       "    <tr>\n",
       "      <th>2</th>\n",
       "      <td>37</td>\n",
       "      <td>1</td>\n",
       "      <td>2</td>\n",
       "      <td>0</td>\n",
       "      <td>False</td>\n",
       "      <td>True</td>\n",
       "      <td>False</td>\n",
       "      <td>False</td>\n",
       "    </tr>\n",
       "    <tr>\n",
       "      <th>3</th>\n",
       "      <td>30</td>\n",
       "      <td>1</td>\n",
       "      <td>1</td>\n",
       "      <td>0</td>\n",
       "      <td>False</td>\n",
       "      <td>False</td>\n",
       "      <td>False</td>\n",
       "      <td>False</td>\n",
       "    </tr>\n",
       "    <tr>\n",
       "      <th>4</th>\n",
       "      <td>30</td>\n",
       "      <td>0</td>\n",
       "      <td>0</td>\n",
       "      <td>0</td>\n",
       "      <td>False</td>\n",
       "      <td>False</td>\n",
       "      <td>False</td>\n",
       "      <td>False</td>\n",
       "    </tr>\n",
       "  </tbody>\n",
       "</table>\n",
       "</div>"
      ],
      "text/plain": [
       "   Age  AnnualIncomeClass  ServicesOpted  Churn  BookedHotel  \\\n",
       "0   34                  1              5      0         True   \n",
       "1   34                  0              4      1        False   \n",
       "2   37                  1              2      0        False   \n",
       "3   30                  1              1      0        False   \n",
       "4   30                  0              0      0        False   \n",
       "\n",
       "   AccountSyncedToSocialMedia  FrequentFlyer_No  FrequentFlyer_Yes  \n",
       "0                       False             False              False  \n",
       "1                        True             False               True  \n",
       "2                        True             False              False  \n",
       "3                       False             False              False  \n",
       "4                       False             False              False  "
      ]
     },
     "execution_count": 48,
     "metadata": {},
     "output_type": "execute_result"
    }
   ],
   "source": [
    "#rename some cols for clarity\n",
    "\n",
    "df_coded.rename(columns={'BookedHotelOrNot_Yes':'BookedHotel', 'AccountSyncedToSocialMedia_Yes':'AccountSyncedToSocialMedia', 'FrequentFlyer_No Record': 'FrequentFlyer_No'}, inplace=True)\n",
    "\n",
    "#Check if our data us ready for ML\n",
    "df_coded.head()"
   ]
  },
  {
   "cell_type": "markdown",
   "metadata": {
    "id": "iibqK2HqHVbE"
   },
   "source": [
    "## Correlation Matrix to Explore Relationships Between The Variables."
   ]
  },
  {
   "cell_type": "code",
   "execution_count": 49,
   "metadata": {},
   "outputs": [
    {
     "data": {
      "image/png": "[encoded data removed]",
      "text/plain": [
       "<Figure size 864x720 with 2 Axes>"
      ]
     },
     "metadata": {
      "needs_background": "light"
     },
     "output_type": "display_data"
    }
   ],
   "source": [
    "# Set the size of the figure\n",
    "plt.figure(figsize=(12, 10))\n",
    "\n",
    "# Plot the correlation matrix heatmap\n",
    "sns.heatmap(np.round(df_coded.corr(method='spearman'), 2), annot=True, cmap='Blues')\n",
    "\n",
    "# Add labels and title\n",
    "plt.title('Correlation Matrix (Spearman)')\n",
    "plt.xlabel('Variables')\n",
    "plt.ylabel('Variables')\n",
    "\n",
    "# Display the plot\n",
    "plt.show()"
   ]
  },
  {
   "cell_type": "markdown",
   "metadata": {
    "id": "3xVXAxo-HaVi"
   },
   "source": [
    "Even though the correlation matrix needs to be interpreted with caution (as it's based on scaled variables, which is also why Spearman's correlation is used), it gives some indication that e.g. annual income class and frequent flyer status are correlated. This also indicates that frequent flyers are associated with churning.\n",
    "\n"
   ]
  },
  {
   "cell_type": "markdown",
   "metadata": {
    "id": "CJ-m-57PvdwB"
   },
   "source": [
    "# Modeling"
   ]
  },
  {
   "cell_type": "code",
   "execution_count": 50,
   "metadata": {
    "id": "ut0N3hTWvLKS"
   },
   "outputs": [],
   "source": [
    "# Split the data into training and test set\n",
    "\n",
    "X = df_coded.drop(columns='Churn', axis=1)\n",
    "y = df_coded['Churn']\n",
    "\n",
    "# Train the data\n",
    "\n",
    "X_train, X_test, y_train, y_test = train_test_split(X, y, test_size=0.33, random_state=42)"
   ]
  },
  {
   "cell_type": "code",
   "execution_count": 51,
   "metadata": {
    "id": "ElB_vpO7vTQs"
   },
   "outputs": [],
   "source": [
    "# Generic function to fit data and display results/predictions\n",
    "\n",
    "def fit_evaluate(clf, X_train, X_test, y_train, y_test):\n",
    "    # fit model to training data\n",
    "    clf.fit(X_train, y_train)\n",
    "    # make predictions for test data\n",
    "    y_pred = clf.predict(X_test)\n",
    "    # print evaluation\n",
    "    print(classification_report(y_test, y_pred))\n",
    "    print('\\nConfusion Matrix: \\n')\n",
    "    s = sns.heatmap(confusion_matrix(y_test, y_pred), annot=True, fmt='g', cmap='YlGnBu');\n",
    "    s.set(xlabel='Predicted class', ylabel='True class')"
   ]
  },
  {
   "cell_type": "markdown",
   "metadata": {
    "id": "UbimdSSxHkWG"
   },
   "source": [
    "# Model Evaluation\n",
    "\n",
    "Here we test some classic algorithms but also explore some classifiers that specifically account for unbalanced data (using imlearn)."
   ]
  },
  {
   "cell_type": "code",
   "execution_count": 52,
   "metadata": {
    "colab": {
     "base_uri": "https://localhost:8080/",
     "height": 705
    },
    "id": "RVaOdpBWvTTs",
    "outputId": "e17ae4ff-a6a4-45f0-e4be-42e597010cff"
   },
   "outputs": [
    {
     "name": "stdout",
     "output_type": "stream",
     "text": [
      "* Logistic regression * \n",
      "\n",
      "              precision    recall  f1-score   support\n",
      "\n",
      "           0       0.83      0.94      0.88       240\n",
      "           1       0.65      0.37      0.47        75\n",
      "\n",
      "    accuracy                           0.80       315\n",
      "   macro avg       0.74      0.66      0.68       315\n",
      "weighted avg       0.79      0.80      0.78       315\n",
      "\n",
      "\n",
      "Confusion Matrix: \n",
      "\n"
     ]
    },
    {
     "data": {
      "image/png": "[encoded data removed]",
      "text/plain": [
       "<Figure size 432x288 with 2 Axes>"
      ]
     },
     "metadata": {
      "needs_background": "light"
     },
     "output_type": "display_data"
    }
   ],
   "source": [
    "# Create a logistic regression model without specifying class weights\n",
    "modelLR = LogisticRegression()\n",
    "\n",
    "# Print information about logistic regression\n",
    "print('* Logistic regression * \\n')\n",
    "\n",
    "# Fit, evaluate, and print results of logistic regression model\n",
    "fit_evaluate(modelLR, X_train, X_test, y_train, y_test)"
   ]
  },
  {
   "cell_type": "code",
   "execution_count": 53,
   "metadata": {
    "colab": {
     "base_uri": "https://localhost:8080/",
     "height": 700
    },
    "id": "RYJIl28zvTWm",
    "outputId": "a193d026-41eb-471b-b3ea-27ccc124560b"
   },
   "outputs": [
    {
     "name": "stdout",
     "output_type": "stream",
     "text": [
      "* Logistic regression * \n",
      "\n",
      "              precision    recall  f1-score   support\n",
      "\n",
      "           0       0.91      0.76      0.83       240\n",
      "           1       0.50      0.76      0.60        75\n",
      "\n",
      "    accuracy                           0.76       315\n",
      "   macro avg       0.70      0.76      0.71       315\n",
      "weighted avg       0.81      0.76      0.77       315\n",
      "\n",
      "\n",
      "Confusion Matrix: \n",
      "\n"
     ]
    },
    {
     "data": {
      "image/png": "[encoded data removed]",
      "text/plain": [
       "<Figure size 432x288 with 2 Axes>"
      ]
     },
     "metadata": {
      "needs_background": "light"
     },
     "output_type": "display_data"
    }
   ],
   "source": [
    "# Create a logistic regression model with balanced class weights\n",
    "modelLR = LogisticRegression(class_weight='balanced')\n",
    "\n",
    "# Print information about logistic regression\n",
    "print('* Logistic regression * \\n')\n",
    "\n",
    "# Fit, evaluate, and print results of logistic regression model\n",
    "fit_evaluate(modelLR, X_train, X_test, y_train, y_test)"
   ]
  },
  {
   "cell_type": "markdown",
   "metadata": {
    "id": "RyhkRcNWHwvI"
   },
   "source": [
    "Balancing the classes does not substantially improve the model. The prediction of the minority class gets better (at a cost of the majority class), as the model gets penalized more for errors in the minority class."
   ]
  },
  {
   "cell_type": "code",
   "execution_count": 54,
   "metadata": {
    "colab": {
     "base_uri": "https://localhost:8080/",
     "height": 701
    },
    "id": "YtX2MXA5vTZc",
    "outputId": "580f9db7-7826-45d4-c967-0cfafa61cb4f"
   },
   "outputs": [
    {
     "name": "stdout",
     "output_type": "stream",
     "text": [
      "* Random Forest Classifier * \n",
      "\n",
      "              precision    recall  f1-score   support\n",
      "\n",
      "           0       0.91      0.93      0.92       240\n",
      "           1       0.76      0.69      0.73        75\n",
      "\n",
      "    accuracy                           0.88       315\n",
      "   macro avg       0.84      0.81      0.82       315\n",
      "weighted avg       0.87      0.88      0.87       315\n",
      "\n",
      "\n",
      "Confusion Matrix: \n",
      "\n"
     ]
    },
    {
     "data": {
      "image/png": "[encoded data removed]",
      "text/plain": [
       "<Figure size 432x288 with 2 Axes>"
      ]
     },
     "metadata": {
      "needs_background": "light"
     },
     "output_type": "display_data"
    }
   ],
   "source": [
    "# Create a Random Forest Classifier model\n",
    "modelRF = RandomForestClassifier()\n",
    "\n",
    "# Print information about the Random Forest Classifier\n",
    "print('* Random Forest Classifier * \\n')\n",
    "\n",
    "# Fit, evaluate, and print results of the Random Forest Classifier model\n",
    "fit_evaluate(modelRF, X_train, X_test, y_train, y_test)"
   ]
  },
  {
   "cell_type": "markdown",
   "metadata": {
    "id": "5JgpevcAICCI"
   },
   "source": [
    "The random forest classifier performs overall better than logistic regression. Next, testing if balancing the data improves the performance, particularly for the underrepresented class 1 (churned) using a balanced random forest classifier that randomly under-samples each boostrap sample to balance it."
   ]
  },
  {
   "cell_type": "code",
   "execution_count": 55,
   "metadata": {
    "colab": {
     "base_uri": "https://localhost:8080/",
     "height": 1000
    },
    "id": "2Yhbw9lFvTcR",
    "outputId": "9ca3b8b2-d154-44b9-fa0c-b0dab61e67d5"
   },
   "outputs": [
    {
     "name": "stdout",
     "output_type": "stream",
     "text": [
      "* Balanced Random Forest Classifier * \n",
      "\n",
      "              precision    recall  f1-score   support\n",
      "\n",
      "           0       0.97      0.85      0.91       240\n",
      "           1       0.66      0.92      0.77        75\n",
      "\n",
      "    accuracy                           0.87       315\n",
      "   macro avg       0.82      0.89      0.84       315\n",
      "weighted avg       0.90      0.87      0.88       315\n",
      "\n",
      "\n",
      "Confusion Matrix: \n",
      "\n"
     ]
    },
    {
     "name": "stderr",
     "output_type": "stream",
     "text": [
      "/Users/normanangel/opt/anaconda3/lib/python3.9/site-packages/imblearn/ensemble/_forest.py:546: FutureWarning: The default of `sampling_strategy` will change from `'auto'` to `'all'` in version 0.13. This change will follow the implementation proposed in the original paper. Set to `'all'` to silence this warning and adopt the future behaviour.\n",
      "  warn(\n",
      "/Users/normanangel/opt/anaconda3/lib/python3.9/site-packages/imblearn/ensemble/_forest.py:558: FutureWarning: The default of `replacement` will change from `False` to `True` in version 0.13. This change will follow the implementation proposed in the original paper. Set to `True` to silence this warning and adopt the future behaviour.\n",
      "  warn(\n"
     ]
    },
    {
     "data": {
      "image/png": "[encoded data removed]",
      "text/plain": [
       "<Figure size 432x288 with 2 Axes>"
      ]
     },
     "metadata": {
      "needs_background": "light"
     },
     "output_type": "display_data"
    }
   ],
   "source": [
    "# Create a Balanced Random Forest Classifier model\n",
    "modelRF_bal = BalancedRandomForestClassifier()\n",
    "\n",
    "# Print information about the Balanced Random Forest Classifier\n",
    "print('* Balanced Random Forest Classifier * \\n')\n",
    "\n",
    "# Fit, evaluate, and print results of the Balanced Random Forest Classifier model\n",
    "fit_evaluate(modelRF_bal, X_train, X_test, y_train, y_test)"
   ]
  },
  {
   "cell_type": "markdown",
   "metadata": {
    "id": "0YQ-mIsqIRUz"
   },
   "source": [
    "The balanced random forest classifier classifies the minority class often correctly, however, at the cost of many false negatives. This shows that downsampling favors class 1, compared to other models."
   ]
  },
  {
   "cell_type": "code",
   "execution_count": 56,
   "metadata": {
    "colab": {
     "base_uri": "https://localhost:8080/",
     "height": 703
    },
    "id": "SSiO3leICq6o",
    "outputId": "c1b0736d-6703-4f9a-fc77-bf124b445a50"
   },
   "outputs": [
    {
     "name": "stdout",
     "output_type": "stream",
     "text": [
      "* Gradient Boosting Classifier * \n",
      "\n",
      "              precision    recall  f1-score   support\n",
      "\n",
      "           0       0.91      0.94      0.93       240\n",
      "           1       0.79      0.72      0.76        75\n",
      "\n",
      "    accuracy                           0.89       315\n",
      "   macro avg       0.85      0.83      0.84       315\n",
      "weighted avg       0.89      0.89      0.89       315\n",
      "\n",
      "\n",
      "Confusion Matrix: \n",
      "\n"
     ]
    },
    {
     "data": {
      "image/png": "[encoded data removed]",
      "text/plain": [
       "<Figure size 432x288 with 2 Axes>"
      ]
     },
     "metadata": {
      "needs_background": "light"
     },
     "output_type": "display_data"
    }
   ],
   "source": [
    "# Create a Gradient Boosting Classifier model\n",
    "modelGB = GradientBoostingClassifier()\n",
    "\n",
    "# Print information about the Gradient Boosting Classifier\n",
    "print('* Gradient Boosting Classifier * \\n')\n",
    "\n",
    "# Fit, evaluate, and print results of the Gradient Boosting Classifier model\n",
    "fit_evaluate(modelGB, X_train, X_test, y_train, y_test)"
   ]
  },
  {
   "cell_type": "code",
   "execution_count": null,
   "metadata": {
    "colab": {
     "base_uri": "https://localhost:8080/",
     "height": 699
    },
    "id": "dVDfkLJiCq9j",
    "outputId": "76de4c26-67af-4d05-ba19-a138df1018e9"
   },
   "outputs": [],
   "source": []
  },
  {
   "cell_type": "markdown",
   "metadata": {
    "id": "gCf1HlBoJObf"
   },
   "source": [
    "The balanced bagging classifier also favors the underrepresented class 1 (churned), providing the best f1-value for the minority class and an overall good accuracy of 87%."
   ]
  },
  {
   "cell_type": "code",
   "execution_count": 57,
   "metadata": {
    "colab": {
     "base_uri": "https://localhost:8080/",
     "height": 699
    },
    "id": "4Lx0QcUrDNKr",
    "outputId": "7cdd4f43-d523-446a-d9a4-d30e72467f5f"
   },
   "outputs": [
    {
     "name": "stdout",
     "output_type": "stream",
     "text": [
      "* K Nearest Neighbors Classifier * \n",
      "\n",
      "              precision    recall  f1-score   support\n",
      "\n",
      "           0       0.89      0.96      0.93       240\n",
      "           1       0.83      0.64      0.72        75\n",
      "\n",
      "    accuracy                           0.88       315\n",
      "   macro avg       0.86      0.80      0.82       315\n",
      "weighted avg       0.88      0.88      0.88       315\n",
      "\n",
      "\n",
      "Confusion Matrix: \n",
      "\n"
     ]
    },
    {
     "data": {
      "image/png": "[encoded data removed]",
      "text/plain": [
       "<Figure size 432x288 with 2 Axes>"
      ]
     },
     "metadata": {
      "needs_background": "light"
     },
     "output_type": "display_data"
    }
   ],
   "source": [
    "# Create a K Nearest Neighbors Classifier model\n",
    "modelKNN = KNeighborsClassifier()\n",
    "\n",
    "# Print information about the K Nearest Neighbors Classifier\n",
    "print('* K Nearest Neighbors Classifier * \\n')\n",
    "\n",
    "# Fit, evaluate, and print results of the K Nearest Neighbors Classifier model\n",
    "fit_evaluate(modelKNN, X_train, X_test, y_train, y_test)"
   ]
  },
  {
   "cell_type": "code",
   "execution_count": 58,
   "metadata": {},
   "outputs": [
    {
     "name": "stdout",
     "output_type": "stream",
     "text": [
      "* Decision Tree Classifier * \n",
      "\n",
      "              precision    recall  f1-score   support\n",
      "\n",
      "           0       0.92      0.95      0.94       240\n",
      "           1       0.82      0.75      0.78        75\n",
      "\n",
      "    accuracy                           0.90       315\n",
      "   macro avg       0.87      0.85      0.86       315\n",
      "weighted avg       0.90      0.90      0.90       315\n",
      "\n",
      "\n",
      "Confusion Matrix: \n",
      "\n"
     ]
    },
    {
     "data": {
      "image/png": "[encoded data removed]",
      "text/plain": [
       "<Figure size 432x288 with 2 Axes>"
      ]
     },
     "metadata": {
      "needs_background": "light"
     },
     "output_type": "display_data"
    }
   ],
   "source": [
    "from sklearn.tree import DecisionTreeClassifier\n",
    "\n",
    "# Create a Decision Tree Classifier model\n",
    "modelDT = DecisionTreeClassifier()\n",
    "\n",
    "# Print information about the Decision Tree Classifier\n",
    "print('* Decision Tree Classifier * \\n')\n",
    "\n",
    "# Fit, evaluate, and print results of the Decision Tree Classifier model\n",
    "fit_evaluate(modelDT, X_train, X_test, y_train, y_test)"
   ]
  },
  {
   "cell_type": "code",
   "execution_count": 59,
   "metadata": {
    "scrolled": true
   },
   "outputs": [
    {
     "name": "stdout",
     "output_type": "stream",
     "text": [
      "* Support Vector Machine (SVM) Classifier * \n",
      "\n",
      "              precision    recall  f1-score   support\n",
      "\n",
      "           0       0.76      1.00      0.86       240\n",
      "           1       0.00      0.00      0.00        75\n",
      "\n",
      "    accuracy                           0.76       315\n",
      "   macro avg       0.38      0.50      0.43       315\n",
      "weighted avg       0.58      0.76      0.66       315\n",
      "\n",
      "\n",
      "Confusion Matrix: \n",
      "\n"
     ]
    },
    {
     "data": {
      "image/png": "[encoded data removed]",
      "text/plain": [
       "<Figure size 432x288 with 2 Axes>"
      ]
     },
     "metadata": {
      "needs_background": "light"
     },
     "output_type": "display_data"
    }
   ],
   "source": [
    "import warnings\n",
    "from sklearn.svm import SVC\n",
    "\n",
    "# Suppress warnings\n",
    "warnings.filterwarnings(\"ignore\")\n",
    "\n",
    "# Create a Support Vector Machine (SVM) classifier model\n",
    "modelSVM = SVC()\n",
    "\n",
    "# Print information about the Support Vector Machine (SVM) classifier\n",
    "print('* Support Vector Machine (SVM) Classifier * \\n')\n",
    "\n",
    "# Fit, evaluate, and print results of the SVM classifier model\n",
    "fit_evaluate(modelSVM, X_train, X_test, y_train, y_test)"
   ]
  },
  {
   "cell_type": "code",
   "execution_count": 60,
   "metadata": {},
   "outputs": [
    {
     "name": "stdout",
     "output_type": "stream",
     "text": [
      "* Naive Bayes Classifier * \n",
      "\n",
      "              precision    recall  f1-score   support\n",
      "\n",
      "           0       0.88      0.85      0.86       240\n",
      "           1       0.57      0.61      0.59        75\n",
      "\n",
      "    accuracy                           0.80       315\n",
      "   macro avg       0.72      0.73      0.73       315\n",
      "weighted avg       0.80      0.80      0.80       315\n",
      "\n",
      "\n",
      "Confusion Matrix: \n",
      "\n"
     ]
    },
    {
     "data": {
      "image/png": "[encoded data removed]",
      "text/plain": [
       "<Figure size 432x288 with 2 Axes>"
      ]
     },
     "metadata": {
      "needs_background": "light"
     },
     "output_type": "display_data"
    }
   ],
   "source": [
    "from sklearn.naive_bayes import GaussianNB\n",
    "\n",
    "# Create a Naive Bayes classifier model\n",
    "modelNB = GaussianNB()\n",
    "\n",
    "# Print information about the Naive Bayes classifier\n",
    "print('* Naive Bayes Classifier * \\n')\n",
    "\n",
    "# Fit, evaluate, and print results of the Naive Bayes classifier model\n",
    "fit_evaluate(modelNB, X_train, X_test, y_train, y_test)"
   ]
  },
  {
   "cell_type": "code",
   "execution_count": 61,
   "metadata": {
    "colab": {
     "base_uri": "https://localhost:8080/",
     "height": 508
    },
    "id": "_sEAxh5lDNN3",
    "outputId": "bb04c871-843b-425f-aa34-94574c6c9d3e"
   },
   "outputs": [
    {
     "name": "stdout",
     "output_type": "stream",
     "text": [
      "Minimum error: 0.108 at K = 3 \n",
      "\n"
     ]
    },
    {
     "data": {
      "image/png": "[encoded data removed]",
      "text/plain": [
       "<Figure size 432x288 with 1 Axes>"
      ]
     },
     "metadata": {
      "needs_background": "light"
     },
     "output_type": "display_data"
    }
   ],
   "source": [
    "# finding the best k\n",
    "error_rate = []\n",
    "for i in range(1,25):\n",
    "    knn = KNeighborsClassifier(n_neighbors=i)\n",
    "    knn.fit(X_train, y_train)\n",
    "    pred_i = knn.predict(X_test)\n",
    "    error_rate.append(np.mean(pred_i != y_test))\n",
    "\n",
    "plt.plot(range(1,25), error_rate, color='b', linestyle='--', marker='o', markerfacecolor='r', markeredgecolor='r', markersize=8)\n",
    "plt.xlabel('K')\n",
    "plt.ylabel('Error Rate')\n",
    "plt.title('Error Rate vs. K Value')\n",
    "\n",
    "# plotting the k value that minimizes the error\n",
    "print('Minimum error:', np.round(min(error_rate), 3),'at K =', (error_rate.index(min(error_rate)) + 1), '\\n');"
   ]
  },
  {
   "cell_type": "markdown",
   "metadata": {
    "id": "O-wEwmKJ7lyi"
   },
   "source": [
    "The output \"Minimum error: 0.111 at K = 1\" indicates that, among the values of k tested (from 1 to 24), the lowest error rate is achieved when k is equal to 1. Let's break down the interpretation:\n",
    "\n",
    "Minimum Error Rate: The value \"0.111\" represents the minimum error rate achieved in the classification when using the nearest neighbor algorithm with a specific value of k.\n",
    "\n",
    "Optimal K: The corresponding value of k that minimizes the error rate is \"1\". This suggests that, based on the analysis, the K Nearest Neighbors (KNN) model performs best when considering only the nearest neighbor (the single closest data point) when making predictions.\n",
    "\n",
    "As the default for k is 5 already in KNN, the best k is already implemented in the default KNN above"
   ]
  },
  {
   "cell_type": "markdown",
   "metadata": {
    "id": "HQINHT4swfAQ"
   },
   "source": [
    "\n",
    "### Results\n",
    "\n",
    "1. Among the models we compared, Decsion tree classiifer perfomed the best with an overall accuracy of 90% with F1 Score of 93 and 77 for class 0 and class 1 respectivelt. The Gradient Boosting Classifier followed in order to predict customer churn. It performed with an overall accuracy of 89%, as well as an F1 score of 76 for the minority class.\n",
    "\n",
    "2. The random forest classifier (88% Accuracy) performs overall better than logistic regression. The balanced random forest classifier classifies the minority class often correctly, however, at the cost of many false negatives.\n",
    "\n",
    "3. With the aaccuracy is 80%, Logistic Regression performs well but needs improvement. Introducing the balanced weight improved the recall for class 0 (from 0.94 to 0.79) but did not improve the overall perfomance of the model (76% accuracy)\n",
    "\n",
    "\n",
    "4. The balanced bagging classifier also favors the underrepresented class 1 (churned), providing the best f1-value for the minority class and an overall good accuracy of 87%.\n",
    "\n",
    "5. Based on the analysis, the K Nearest Neighbors (KNN) model performs best when considering only the nearest neighbor (the single closest data point) when making predictions making it sensitve to ouliers and a risk of over fitting"
   ]
  },
  {
   "cell_type": "markdown",
   "metadata": {
    "id": "i2Q9-4ps3T16"
   },
   "source": [
    "# Model Optimization\n",
    "\n",
    "1. Random Forest, Gradient Boosting, and Balanced Bagging are ensemble methods that generally perform well in various scenarios.\n",
    "\n",
    "2. Introducing class_weight='balanced' in a classification model as a way of addressing imbalanced data. It assigns higher weights to the minority class, making the model pay more attention to it during training."
   ]
  },
  {
   "cell_type": "markdown",
   "metadata": {
    "id": "XTgW9h7K_UNJ"
   },
   "source": [
    "## Hyperparameter Tuning\n",
    "\n",
    "Tune the hyperparameters of the Decision Tree Classifier and Gradient Boosting Classifier using techniques such as Grid Search. Experiment with parameters like n_estimators, learning_rate, max_depth, and subsample."
   ]
  },
  {
   "cell_type": "markdown",
   "metadata": {},
   "source": [
    "### Hyperparameter Tuning of Gradient Boosting"
   ]
  },
  {
   "cell_type": "code",
   "execution_count": 62,
   "metadata": {
    "colab": {
     "base_uri": "https://localhost:8080/",
     "height": 685
    },
    "id": "6lfWazQhF6qq",
    "outputId": "29f297f7-04f7-4411-beb8-96a6bb4af76c"
   },
   "outputs": [
    {
     "name": "stdout",
     "output_type": "stream",
     "text": [
      "Best Parameters: {'learning_rate': 0.2, 'max_depth': 3, 'n_estimators': 50, 'subsample': 0.8}\n",
      "              precision    recall  f1-score   support\n",
      "\n",
      "           0       0.91      0.95      0.93       240\n",
      "           1       0.82      0.71      0.76        75\n",
      "\n",
      "    accuracy                           0.89       315\n",
      "   macro avg       0.86      0.83      0.84       315\n",
      "weighted avg       0.89      0.89      0.89       315\n",
      "\n",
      "\n",
      "Confusion Matrix: \n",
      "\n"
     ]
    },
    {
     "data": {
      "image/png": "[encoded data removed]",
      "text/plain": [
       "<Figure size 432x288 with 2 Axes>"
      ]
     },
     "metadata": {
      "needs_background": "light"
     },
     "output_type": "display_data"
    }
   ],
   "source": [
    "#Hyperparameter Tuning of Gradient Boosting\n",
    "\n",
    "from sklearn.model_selection import GridSearchCV\n",
    "\n",
    "# Define the parameter grid\n",
    "param_grid = {\n",
    "    'n_estimators': [50, 100, 200],\n",
    "    'learning_rate': [0.01, 0.1, 0.2],\n",
    "    'max_depth': [3, 4, 5],\n",
    "    'subsample': [0.8, 0.9, 1.0]\n",
    "}\n",
    "\n",
    "# Create the GridSearchCV object\n",
    "grid_search = GridSearchCV(GradientBoostingClassifier(), param_grid, cv=5, scoring='accuracy')\n",
    "\n",
    "# Fit the grid search to the data\n",
    "grid_search.fit(X_train, y_train)\n",
    "\n",
    "# Get the best parameters\n",
    "best_params = grid_search.best_params_\n",
    "print(\"Best Parameters:\", best_params)\n",
    "\n",
    "# Use the best parameters to create the model\n",
    "best_modelGB = GradientBoostingClassifier(**best_params)\n",
    "\n",
    "# Evaluate the model\n",
    "fit_evaluate(best_modelGB, X_train, X_test, y_train, y_test)"
   ]
  },
  {
   "cell_type": "markdown",
   "metadata": {
    "id": "ROaJhPQULVHJ"
   },
   "source": [
    "* After Hyperparameter Tuning, The Model accuracy imoroved from 89% to 90%\n",
    "\n",
    "* The Improvement is also evidenced from the confusion matrix from the change TP, TN, FP, and FN\n",
    "\n"
   ]
  },
  {
   "cell_type": "markdown",
   "metadata": {},
   "source": [
    "### Hypaparameter Tuning of Decision Tree"
   ]
  },
  {
   "cell_type": "code",
   "execution_count": 63,
   "metadata": {},
   "outputs": [
    {
     "data": {
      "text/html": [
       "<style>#sk-container-id-1 {\n",
       "  /* Definition of color scheme common for light and dark mode */\n",
       "  --sklearn-color-text: black;\n",
       "  --sklearn-color-line: gray;\n",
       "  /* Definition of color scheme for unfitted estimators */\n",
       "  --sklearn-color-unfitted-level-0: #fff5e6;\n",
       "  --sklearn-color-unfitted-level-1: #f6e4d2;\n",
       "  --sklearn-color-unfitted-level-2: #ffe0b3;\n",
       "  --sklearn-color-unfitted-level-3: chocolate;\n",
       "  /* Definition of color scheme for fitted estimators */\n",
       "  --sklearn-color-fitted-level-0: #f0f8ff;\n",
       "  --sklearn-color-fitted-level-1: #d4ebff;\n",
       "  --sklearn-color-fitted-level-2: #b3dbfd;\n",
       "  --sklearn-color-fitted-level-3: cornflowerblue;\n",
       "\n",
       "  /* Specific color for light theme */\n",
       "  --sklearn-color-text-on-default-background: var(--sg-text-color, var(--theme-code-foreground, var(--jp-content-font-color1, black)));\n",
       "  --sklearn-color-background: var(--sg-background-color, var(--theme-background, var(--jp-layout-color0, white)));\n",
       "  --sklearn-color-border-box: var(--sg-text-color, var(--theme-code-foreground, var(--jp-content-font-color1, black)));\n",
       "  --sklearn-color-icon: #696969;\n",
       "\n",
       "  @media (prefers-color-scheme: dark) {\n",
       "    /* Redefinition of color scheme for dark theme */\n",
       "    --sklearn-color-text-on-default-background: var(--sg-text-color, var(--theme-code-foreground, var(--jp-content-font-color1, white)));\n",
       "    --sklearn-color-background: var(--sg-background-color, var(--theme-background, var(--jp-layout-color0, #111)));\n",
       "    --sklearn-color-border-box: var(--sg-text-color, var(--theme-code-foreground, var(--jp-content-font-color1, white)));\n",
       "    --sklearn-color-icon: #878787;\n",
       "  }\n",
       "}\n",
       "\n",
       "#sk-container-id-1 {\n",
       "  color: var(--sklearn-color-text);\n",
       "}\n",
       "\n",
       "#sk-container-id-1 pre {\n",
       "  padding: 0;\n",
       "}\n",
       "\n",
       "#sk-container-id-1 input.sk-hidden--visually {\n",
       "  border: 0;\n",
       "  clip: rect(1px 1px 1px 1px);\n",
       "  clip: rect(1px, 1px, 1px, 1px);\n",
       "  height: 1px;\n",
       "  margin: -1px;\n",
       "  overflow: hidden;\n",
       "  padding: 0;\n",
       "  position: absolute;\n",
       "  width: 1px;\n",
       "}\n",
       "\n",
       "#sk-container-id-1 div.sk-dashed-wrapped {\n",
       "  border: 1px dashed var(--sklearn-color-line);\n",
       "  margin: 0 0.4em 0.5em 0.4em;\n",
       "  box-sizing: border-box;\n",
       "  padding-bottom: 0.4em;\n",
       "  background-color: var(--sklearn-color-background);\n",
       "}\n",
       "\n",
       "#sk-container-id-1 div.sk-container {\n",
       "  /* jupyter's `normalize.less` sets `[hidden] { display: none; }`\n",
       "     but bootstrap.min.css set `[hidden] { display: none !important; }`\n",
       "     so we also need the `!important` here to be able to override the\n",
       "     default hidden behavior on the sphinx rendered scikit-learn.org.\n",
       "     See: https://github.com/scikit-learn/scikit-learn/issues/21755 */\n",
       "  display: inline-block !important;\n",
       "  position: relative;\n",
       "}\n",
       "\n",
       "#sk-container-id-1 div.sk-text-repr-fallback {\n",
       "  display: none;\n",
       "}\n",
       "\n",
       "div.sk-parallel-item,\n",
       "div.sk-serial,\n",
       "div.sk-item {\n",
       "  /* draw centered vertical line to link estimators */\n",
       "  background-image: linear-gradient(var(--sklearn-color-text-on-default-background), var(--sklearn-color-text-on-default-background));\n",
       "  background-size: 2px 100%;\n",
       "  background-repeat: no-repeat;\n",
       "  background-position: center center;\n",
       "}\n",
       "\n",
       "/* Parallel-specific style estimator block */\n",
       "\n",
       "#sk-container-id-1 div.sk-parallel-item::after {\n",
       "  content: \"\";\n",
       "  width: 100%;\n",
       "  border-bottom: 2px solid var(--sklearn-color-text-on-default-background);\n",
       "  flex-grow: 1;\n",
       "}\n",
       "\n",
       "#sk-container-id-1 div.sk-parallel {\n",
       "  display: flex;\n",
       "  align-items: stretch;\n",
       "  justify-content: center;\n",
       "  background-color: var(--sklearn-color-background);\n",
       "  position: relative;\n",
       "}\n",
       "\n",
       "#sk-container-id-1 div.sk-parallel-item {\n",
       "  display: flex;\n",
       "  flex-direction: column;\n",
       "}\n",
       "\n",
       "#sk-container-id-1 div.sk-parallel-item:first-child::after {\n",
       "  align-self: flex-end;\n",
       "  width: 50%;\n",
       "}\n",
       "\n",
       "#sk-container-id-1 div.sk-parallel-item:last-child::after {\n",
       "  align-self: flex-start;\n",
       "  width: 50%;\n",
       "}\n",
       "\n",
       "#sk-container-id-1 div.sk-parallel-item:only-child::after {\n",
       "  width: 0;\n",
       "}\n",
       "\n",
       "/* Serial-specific style estimator block */\n",
       "\n",
       "#sk-container-id-1 div.sk-serial {\n",
       "  display: flex;\n",
       "  flex-direction: column;\n",
       "  align-items: center;\n",
       "  background-color: var(--sklearn-color-background);\n",
       "  padding-right: 1em;\n",
       "  padding-left: 1em;\n",
       "}\n",
       "\n",
       "\n",
       "/* Toggleable style: style used for estimator/Pipeline/ColumnTransformer box that is\n",
       "clickable and can be expanded/collapsed.\n",
       "- Pipeline and ColumnTransformer use this feature and define the default style\n",
       "- Estimators will overwrite some part of the style using the `sk-estimator` class\n",
       "*/\n",
       "\n",
       "/* Pipeline and ColumnTransformer style (default) */\n",
       "\n",
       "#sk-container-id-1 div.sk-toggleable {\n",
       "  /* Default theme specific background. It is overwritten whether we have a\n",
       "  specific estimator or a Pipeline/ColumnTransformer */\n",
       "  background-color: var(--sklearn-color-background);\n",
       "}\n",
       "\n",
       "/* Toggleable label */\n",
       "#sk-container-id-1 label.sk-toggleable__label {\n",
       "  cursor: pointer;\n",
       "  display: block;\n",
       "  width: 100%;\n",
       "  margin-bottom: 0;\n",
       "  padding: 0.5em;\n",
       "  box-sizing: border-box;\n",
       "  text-align: center;\n",
       "}\n",
       "\n",
       "#sk-container-id-1 label.sk-toggleable__label-arrow:before {\n",
       "  /* Arrow on the left of the label */\n",
       "  content: \"▸\";\n",
       "  float: left;\n",
       "  margin-right: 0.25em;\n",
       "  color: var(--sklearn-color-icon);\n",
       "}\n",
       "\n",
       "#sk-container-id-1 label.sk-toggleable__label-arrow:hover:before {\n",
       "  color: var(--sklearn-color-text);\n",
       "}\n",
       "\n",
       "/* Toggleable content - dropdown */\n",
       "\n",
       "#sk-container-id-1 div.sk-toggleable__content {\n",
       "  max-height: 0;\n",
       "  max-width: 0;\n",
       "  overflow: hidden;\n",
       "  text-align: left;\n",
       "  /* unfitted */\n",
       "  background-color: var(--sklearn-color-unfitted-level-0);\n",
       "}\n",
       "\n",
       "#sk-container-id-1 div.sk-toggleable__content.fitted {\n",
       "  /* fitted */\n",
       "  background-color: var(--sklearn-color-fitted-level-0);\n",
       "}\n",
       "\n",
       "#sk-container-id-1 div.sk-toggleable__content pre {\n",
       "  margin: 0.2em;\n",
       "  border-radius: 0.25em;\n",
       "  color: var(--sklearn-color-text);\n",
       "  /* unfitted */\n",
       "  background-color: var(--sklearn-color-unfitted-level-0);\n",
       "}\n",
       "\n",
       "#sk-container-id-1 div.sk-toggleable__content.fitted pre {\n",
       "  /* unfitted */\n",
       "  background-color: var(--sklearn-color-fitted-level-0);\n",
       "}\n",
       "\n",
       "#sk-container-id-1 input.sk-toggleable__control:checked~div.sk-toggleable__content {\n",
       "  /* Expand drop-down */\n",
       "  max-height: 200px;\n",
       "  max-width: 100%;\n",
       "  overflow: auto;\n",
       "}\n",
       "\n",
       "#sk-container-id-1 input.sk-toggleable__control:checked~label.sk-toggleable__label-arrow:before {\n",
       "  content: \"▾\";\n",
       "}\n",
       "\n",
       "/* Pipeline/ColumnTransformer-specific style */\n",
       "\n",
       "#sk-container-id-1 div.sk-label input.sk-toggleable__control:checked~label.sk-toggleable__label {\n",
       "  color: var(--sklearn-color-text);\n",
       "  background-color: var(--sklearn-color-unfitted-level-2);\n",
       "}\n",
       "\n",
       "#sk-container-id-1 div.sk-label.fitted input.sk-toggleable__control:checked~label.sk-toggleable__label {\n",
       "  background-color: var(--sklearn-color-fitted-level-2);\n",
       "}\n",
       "\n",
       "/* Estimator-specific style */\n",
       "\n",
       "/* Colorize estimator box */\n",
       "#sk-container-id-1 div.sk-estimator input.sk-toggleable__control:checked~label.sk-toggleable__label {\n",
       "  /* unfitted */\n",
       "  background-color: var(--sklearn-color-unfitted-level-2);\n",
       "}\n",
       "\n",
       "#sk-container-id-1 div.sk-estimator.fitted input.sk-toggleable__control:checked~label.sk-toggleable__label {\n",
       "  /* fitted */\n",
       "  background-color: var(--sklearn-color-fitted-level-2);\n",
       "}\n",
       "\n",
       "#sk-container-id-1 div.sk-label label.sk-toggleable__label,\n",
       "#sk-container-id-1 div.sk-label label {\n",
       "  /* The background is the default theme color */\n",
       "  color: var(--sklearn-color-text-on-default-background);\n",
       "}\n",
       "\n",
       "/* On hover, darken the color of the background */\n",
       "#sk-container-id-1 div.sk-label:hover label.sk-toggleable__label {\n",
       "  color: var(--sklearn-color-text);\n",
       "  background-color: var(--sklearn-color-unfitted-level-2);\n",
       "}\n",
       "\n",
       "/* Label box, darken color on hover, fitted */\n",
       "#sk-container-id-1 div.sk-label.fitted:hover label.sk-toggleable__label.fitted {\n",
       "  color: var(--sklearn-color-text);\n",
       "  background-color: var(--sklearn-color-fitted-level-2);\n",
       "}\n",
       "\n",
       "/* Estimator label */\n",
       "\n",
       "#sk-container-id-1 div.sk-label label {\n",
       "  font-family: monospace;\n",
       "  font-weight: bold;\n",
       "  display: inline-block;\n",
       "  line-height: 1.2em;\n",
       "}\n",
       "\n",
       "#sk-container-id-1 div.sk-label-container {\n",
       "  text-align: center;\n",
       "}\n",
       "\n",
       "/* Estimator-specific */\n",
       "#sk-container-id-1 div.sk-estimator {\n",
       "  font-family: monospace;\n",
       "  border: 1px dotted var(--sklearn-color-border-box);\n",
       "  border-radius: 0.25em;\n",
       "  box-sizing: border-box;\n",
       "  margin-bottom: 0.5em;\n",
       "  /* unfitted */\n",
       "  background-color: var(--sklearn-color-unfitted-level-0);\n",
       "}\n",
       "\n",
       "#sk-container-id-1 div.sk-estimator.fitted {\n",
       "  /* fitted */\n",
       "  background-color: var(--sklearn-color-fitted-level-0);\n",
       "}\n",
       "\n",
       "/* on hover */\n",
       "#sk-container-id-1 div.sk-estimator:hover {\n",
       "  /* unfitted */\n",
       "  background-color: var(--sklearn-color-unfitted-level-2);\n",
       "}\n",
       "\n",
       "#sk-container-id-1 div.sk-estimator.fitted:hover {\n",
       "  /* fitted */\n",
       "  background-color: var(--sklearn-color-fitted-level-2);\n",
       "}\n",
       "\n",
       "/* Specification for estimator info (e.g. \"i\" and \"?\") */\n",
       "\n",
       "/* Common style for \"i\" and \"?\" */\n",
       "\n",
       ".sk-estimator-doc-link,\n",
       "a:link.sk-estimator-doc-link,\n",
       "a:visited.sk-estimator-doc-link {\n",
       "  float: right;\n",
       "  font-size: smaller;\n",
       "  line-height: 1em;\n",
       "  font-family: monospace;\n",
       "  background-color: var(--sklearn-color-background);\n",
       "  border-radius: 1em;\n",
       "  height: 1em;\n",
       "  width: 1em;\n",
       "  text-decoration: none !important;\n",
       "  margin-left: 1ex;\n",
       "  /* unfitted */\n",
       "  border: var(--sklearn-color-unfitted-level-1) 1pt solid;\n",
       "  color: var(--sklearn-color-unfitted-level-1);\n",
       "}\n",
       "\n",
       ".sk-estimator-doc-link.fitted,\n",
       "a:link.sk-estimator-doc-link.fitted,\n",
       "a:visited.sk-estimator-doc-link.fitted {\n",
       "  /* fitted */\n",
       "  border: var(--sklearn-color-fitted-level-1) 1pt solid;\n",
       "  color: var(--sklearn-color-fitted-level-1);\n",
       "}\n",
       "\n",
       "/* On hover */\n",
       "div.sk-estimator:hover .sk-estimator-doc-link:hover,\n",
       ".sk-estimator-doc-link:hover,\n",
       "div.sk-label-container:hover .sk-estimator-doc-link:hover,\n",
       ".sk-estimator-doc-link:hover {\n",
       "  /* unfitted */\n",
       "  background-color: var(--sklearn-color-unfitted-level-3);\n",
       "  color: var(--sklearn-color-background);\n",
       "  text-decoration: none;\n",
       "}\n",
       "\n",
       "div.sk-estimator.fitted:hover .sk-estimator-doc-link.fitted:hover,\n",
       ".sk-estimator-doc-link.fitted:hover,\n",
       "div.sk-label-container:hover .sk-estimator-doc-link.fitted:hover,\n",
       ".sk-estimator-doc-link.fitted:hover {\n",
       "  /* fitted */\n",
       "  background-color: var(--sklearn-color-fitted-level-3);\n",
       "  color: var(--sklearn-color-background);\n",
       "  text-decoration: none;\n",
       "}\n",
       "\n",
       "/* Span, style for the box shown on hovering the info icon */\n",
       ".sk-estimator-doc-link span {\n",
       "  display: none;\n",
       "  z-index: 9999;\n",
       "  position: relative;\n",
       "  font-weight: normal;\n",
       "  right: .2ex;\n",
       "  padding: .5ex;\n",
       "  margin: .5ex;\n",
       "  width: min-content;\n",
       "  min-width: 20ex;\n",
       "  max-width: 50ex;\n",
       "  color: var(--sklearn-color-text);\n",
       "  box-shadow: 2pt 2pt 4pt #999;\n",
       "  /* unfitted */\n",
       "  background: var(--sklearn-color-unfitted-level-0);\n",
       "  border: .5pt solid var(--sklearn-color-unfitted-level-3);\n",
       "}\n",
       "\n",
       ".sk-estimator-doc-link.fitted span {\n",
       "  /* fitted */\n",
       "  background: var(--sklearn-color-fitted-level-0);\n",
       "  border: var(--sklearn-color-fitted-level-3);\n",
       "}\n",
       "\n",
       ".sk-estimator-doc-link:hover span {\n",
       "  display: block;\n",
       "}\n",
       "\n",
       "/* \"?\"-specific style due to the `<a>` HTML tag */\n",
       "\n",
       "#sk-container-id-1 a.estimator_doc_link {\n",
       "  float: right;\n",
       "  font-size: 1rem;\n",
       "  line-height: 1em;\n",
       "  font-family: monospace;\n",
       "  background-color: var(--sklearn-color-background);\n",
       "  border-radius: 1rem;\n",
       "  height: 1rem;\n",
       "  width: 1rem;\n",
       "  text-decoration: none;\n",
       "  /* unfitted */\n",
       "  color: var(--sklearn-color-unfitted-level-1);\n",
       "  border: var(--sklearn-color-unfitted-level-1) 1pt solid;\n",
       "}\n",
       "\n",
       "#sk-container-id-1 a.estimator_doc_link.fitted {\n",
       "  /* fitted */\n",
       "  border: var(--sklearn-color-fitted-level-1) 1pt solid;\n",
       "  color: var(--sklearn-color-fitted-level-1);\n",
       "}\n",
       "\n",
       "/* On hover */\n",
       "#sk-container-id-1 a.estimator_doc_link:hover {\n",
       "  /* unfitted */\n",
       "  background-color: var(--sklearn-color-unfitted-level-3);\n",
       "  color: var(--sklearn-color-background);\n",
       "  text-decoration: none;\n",
       "}\n",
       "\n",
       "#sk-container-id-1 a.estimator_doc_link.fitted:hover {\n",
       "  /* fitted */\n",
       "  background-color: var(--sklearn-color-fitted-level-3);\n",
       "}\n",
       "</style><div id=\"sk-container-id-1\" class=\"sk-top-container\"><div class=\"sk-text-repr-fallback\"><pre>GridSearchCV(cv=5, estimator=DecisionTreeClassifier(), n_jobs=-1,\n",
       "             param_grid={&#x27;criterion&#x27;: [&#x27;entropy&#x27;], &#x27;max_depth&#x27;: [2],\n",
       "                         &#x27;min_samples_leaf&#x27;: [1, 2, 4]},\n",
       "             scoring=&#x27;accuracy&#x27;)</pre><b>In a Jupyter environment, please rerun this cell to show the HTML representation or trust the notebook. <br />On GitHub, the HTML representation is unable to render, please try loading this page with nbviewer.org.</b></div><div class=\"sk-container\" hidden><div class=\"sk-item sk-dashed-wrapped\"><div class=\"sk-label-container\"><div class=\"sk-label fitted sk-toggleable\"><input class=\"sk-toggleable__control sk-hidden--visually\" id=\"sk-estimator-id-1\" type=\"checkbox\" ><label for=\"sk-estimator-id-1\" class=\"sk-toggleable__label fitted sk-toggleable__label-arrow fitted\">&nbsp;&nbsp;GridSearchCV<a class=\"sk-estimator-doc-link fitted\" rel=\"noreferrer\" target=\"_blank\" href=\"https://scikit-learn.org/1.4/modules/generated/sklearn.model_selection.GridSearchCV.html\">?<span>Documentation for GridSearchCV</span></a><span class=\"sk-estimator-doc-link fitted\">i<span>Fitted</span></span></label><div class=\"sk-toggleable__content fitted\"><pre>GridSearchCV(cv=5, estimator=DecisionTreeClassifier(), n_jobs=-1,\n",
       "             param_grid={&#x27;criterion&#x27;: [&#x27;entropy&#x27;], &#x27;max_depth&#x27;: [2],\n",
       "                         &#x27;min_samples_leaf&#x27;: [1, 2, 4]},\n",
       "             scoring=&#x27;accuracy&#x27;)</pre></div> </div></div><div class=\"sk-parallel\"><div class=\"sk-parallel-item\"><div class=\"sk-item\"><div class=\"sk-label-container\"><div class=\"sk-label fitted sk-toggleable\"><input class=\"sk-toggleable__control sk-hidden--visually\" id=\"sk-estimator-id-2\" type=\"checkbox\" ><label for=\"sk-estimator-id-2\" class=\"sk-toggleable__label fitted sk-toggleable__label-arrow fitted\">estimator: DecisionTreeClassifier</label><div class=\"sk-toggleable__content fitted\"><pre>DecisionTreeClassifier()</pre></div> </div></div><div class=\"sk-serial\"><div class=\"sk-item\"><div class=\"sk-estimator fitted sk-toggleable\"><input class=\"sk-toggleable__control sk-hidden--visually\" id=\"sk-estimator-id-3\" type=\"checkbox\" ><label for=\"sk-estimator-id-3\" class=\"sk-toggleable__label fitted sk-toggleable__label-arrow fitted\">&nbsp;DecisionTreeClassifier<a class=\"sk-estimator-doc-link fitted\" rel=\"noreferrer\" target=\"_blank\" href=\"https://scikit-learn.org/1.4/modules/generated/sklearn.tree.DecisionTreeClassifier.html\">?<span>Documentation for DecisionTreeClassifier</span></a></label><div class=\"sk-toggleable__content fitted\"><pre>DecisionTreeClassifier()</pre></div> </div></div></div></div></div></div></div></div></div>"
      ],
      "text/plain": [
       "GridSearchCV(cv=5, estimator=DecisionTreeClassifier(), n_jobs=-1,\n",
       "             param_grid={'criterion': ['entropy'], 'max_depth': [2],\n",
       "                         'min_samples_leaf': [1, 2, 4]},\n",
       "             scoring='accuracy')"
      ]
     },
     "execution_count": 63,
     "metadata": {},
     "output_type": "execute_result"
    }
   ],
   "source": [
    "param_grid = {\n",
    "    'criterion': ['entropy'],\n",
    "    'max_depth': [2],\n",
    "    'min_samples_leaf': [1, 2, 4]\n",
    "\n",
    "}\n",
    "\n",
    "grid_search = GridSearchCV(\n",
    "    param_grid=param_grid,\n",
    "    estimator=DecisionTreeClassifier(),\n",
    "    scoring='accuracy',\n",
    "    cv=5,\n",
    "    n_jobs=-1\n",
    ")\n",
    "\n",
    "grid_search.fit(X_train, y_train)"
   ]
  },
  {
   "cell_type": "code",
   "execution_count": 64,
   "metadata": {},
   "outputs": [
    {
     "ename": "NameError",
     "evalue": "name 'best_score' is not defined",
     "output_type": "error",
     "traceback": [
      "\u001b[0;31m---------------------------------------------------------------------------\u001b[0m",
      "\u001b[0;31mNameError\u001b[0m                                 Traceback (most recent call last)",
      "Input \u001b[0;32mIn [64]\u001b[0m, in \u001b[0;36m<cell line: 1>\u001b[0;34m()\u001b[0m\n\u001b[0;32m----> 1\u001b[0m \u001b[38;5;28mprint\u001b[39m(\u001b[38;5;124mf\u001b[39m\u001b[38;5;124m'\u001b[39m\u001b[38;5;124mbest params \u001b[39m\u001b[38;5;132;01m{\u001b[39;00mbest_params\u001b[38;5;132;01m}\u001b[39;00m\u001b[38;5;130;01m\\n\u001b[39;00m\u001b[38;5;124mbest score \u001b[39m\u001b[38;5;132;01m{\u001b[39;00mbest_score\u001b[38;5;132;01m}\u001b[39;00m\u001b[38;5;124m'\u001b[39m)\n",
      "\u001b[0;31mNameError\u001b[0m: name 'best_score' is not defined"
     ]
    }
   ],
   "source": [
    "print(f'best params {best_params}\\nbest score {best_score}')"
   ]
  },
  {
   "cell_type": "markdown",
   "metadata": {},
   "source": [
    "### Hypaparameter Tuning of Random Forest"
   ]
  },
  {
   "cell_type": "code",
   "execution_count": 65,
   "metadata": {},
   "outputs": [
    {
     "name": "stdout",
     "output_type": "stream",
     "text": [
      "Best parameters: {'max_depth': None, 'min_samples_leaf': 1, 'min_samples_split': 5, 'n_estimators': 50}\n",
      "Accuracy of the best model: 0.8761904761904762\n"
     ]
    }
   ],
   "source": [
    "from sklearn.model_selection import GridSearchCV\n",
    "from sklearn.ensemble import RandomForestClassifier\n",
    "\n",
    "# Define the hyperparameters to tune\n",
    "param_grid = {\n",
    "    'n_estimators': [50, 100, 200],  # Number of trees in the forest\n",
    "    'max_depth': [None, 10, 20],      # Maximum depth of the trees\n",
    "    'min_samples_split': [2, 5, 10],  # Minimum number of samples required to split a node\n",
    "    'min_samples_leaf': [1, 2, 4]     # Minimum number of samples required at each leaf node\n",
    "}\n",
    "\n",
    "# Create the Grid Search model\n",
    "grid_search = GridSearchCV(RandomForestClassifier(), param_grid, cv=5, scoring='accuracy')\n",
    "\n",
    "# Perform the Grid Search\n",
    "grid_search.fit(X_train, y_train)\n",
    "\n",
    "# Print the best parameters found\n",
    "print(\"Best parameters:\", grid_search.best_params_)\n",
    "\n",
    "# Get the best model\n",
    "best_rf = grid_search.best_estimator_\n",
    "\n",
    "# Evaluate the best model\n",
    "best_rf_score = best_rf.score(X_test, y_test)\n",
    "print(\"Accuracy of the best model:\", best_rf_score)"
   ]
  },
  {
   "cell_type": "markdown",
   "metadata": {
    "id": "WH7yIz-cDHbT"
   },
   "source": [
    "## Discussion & Interpretation\n",
    "\n",
    "\n",
    "The key indicators of customer churn were age, frequent flyer status and income class. Specifically,\n",
    "\n",
    "* The younger customers (27-28y) tend to churn propor-\n",
    "tionally more often.\n",
    "\n",
    "* Customers who opted for more services (5+) churned\n",
    "more than those who opted for a few services.\n",
    "\n",
    "* Frequent flyers churn more than non-frequent flyers.\n",
    "* High-income individuals churn more than low- and\n",
    "middle-income classes.\n",
    "\n",
    "* Customers who synced their account to social media\n",
    "churned more than those who didn’t.\n",
    "\n",
    "* Customers who used the company’s service to book a\n",
    "hotel churned more than those who didn’t.\n",
    "Fig. 3. Churn by Age"
   ]
  },
  {
   "cell_type": "markdown",
   "metadata": {},
   "source": [
    "# Deployment"
   ]
  },
  {
   "cell_type": "code",
   "execution_count": 72,
   "metadata": {},
   "outputs": [
    {
     "name": "stdout",
     "output_type": "stream",
     "text": [
      "Decision Tree Accuracy: 0.9514866979655712\n",
      "Decision Tree Model Saved model saved successfully.\n"
     ]
    }
   ],
   "source": [
    "# Re-train Decsion Tree\n",
    "\n",
    "import pickle\n",
    "\n",
    "# Step 1: Random Forest\n",
    "modelDT = DecisionTreeClassifier()\n",
    "modelDT.fit(X_train, y_train)\n",
    "\n",
    "# Step 2: Check model performance\n",
    "y_pred = modelDT.predict(X_train)\n",
    "accuracy = accuracy_score(y_train, y_pred)\n",
    "#precision = precision_score(y_train, y_pred, average='macro')  \n",
    "#recall = recall_score(y_train, y_pred, average='macro')\n",
    "\n",
    "#print model perfomance\n",
    "print(\"Decision Tree Accuracy:\", accuracy)\n",
    "#print(\"Decision Tree Precision:\", precision)\n",
    "#print(\"Decision Tree Recall:\", recall)\n",
    "\n",
    "# Step 3: Save the model correctly\n",
    "with open('modelDT.pkl', 'wb') as f:\n",
    "    pickle.dump(modelDT, f)\n",
    "\n",
    "print(\"Decision Tree Model Saved model saved successfully.\")"
   ]
  },
  {
   "cell_type": "code",
   "execution_count": 71,
   "metadata": {},
   "outputs": [
    {
     "name": "stdout",
     "output_type": "stream",
     "text": [
      "Random Forest Accuracy: 0.9514866979655712\n",
      "Random Forest Model Saved model saved successfully.\n"
     ]
    }
   ],
   "source": [
    "# Re-train Random Forest\n",
    "\n",
    "import pickle\n",
    "\n",
    "# Step 1: Random Forest\n",
    "modelRF = RandomForestClassifier()\n",
    "modelRF.fit(X_train, y_train)\n",
    "\n",
    "# Step 2: Check model performance\n",
    "y_pred = modelRF.predict(X_train)\n",
    "accuracy = accuracy_score(y_train, y_pred)\n",
    "#precision = precision_score(y_train, y_pred, average='macro')  \n",
    "#recall = recall_score(y_train, y_pred, average='macro')\n",
    "\n",
    "#print model perfomance\n",
    "print(\"Random Forest Accuracy:\", accuracy)\n",
    "#print(\"Random Forest Precision:\", precision)\n",
    "#print(\"Random Forest Recall:\", recall)\n",
    "\n",
    "# Step 3: Save the model correctly\n",
    "with open('modelRF.pkl', 'wb') as f:\n",
    "    pickle.dump(modelRF, f)\n",
    "\n",
    "print(\"Random Forest Model Saved model saved successfully.\")"
   ]
  },
  {
   "cell_type": "markdown",
   "metadata": {},
   "source": [
    "## Crriterai for Choice of Model to deploy"
   ]
  },
  {
   "cell_type": "markdown",
   "metadata": {},
   "source": [
    "* Both the Decision Tree and Random Forest models have the same accuracy of approximately 0.9515, meaning they both correctly classify around 95.15% of instances.\n",
    "\n",
    "\n",
    "* But the Decision Tree model has a higher precision of approximately 0.9578 compared to the Random Forest model's precision of approximately 0.9450. This means that the Decision Tree model tends to make fewer false positive predictions compared to the Random Forest model.\n",
    "\n",
    "\n",
    "* Precision is important in the context of churn prediction because it represents the proportion of correctly identified churn cases out of all customers predicted to churn. High precision means that the model correctly identifies a high percentage of customers who are likely to churn, minimizing false positives. In the context of churn prediction, high precision ensures that resources and efforts to retain customers are efficiently allocated to those who are truly at risk of leaving.\n",
    "\n",
    "* For our case, the cost of false positives (incorrectly identifying loyal customers as churners) is relatively high (e.g., offering unnecessary retention incentives to loyal customers), hence we are higher precision prioritized over recall."
   ]
  },
  {
   "cell_type": "markdown",
   "metadata": {},
   "source": [
    "##  Deploy Decsion Tree Model Using Gradio \n",
    "\n",
    "Gradio is a Python library that simplifies the process of creating and deploying machine learning models with user interfaces. It provides an easy-to-use  Python library for building web-based interfaces for machine learning models, allowing users to interact with the models through a browser."
   ]
  },
  {
   "cell_type": "code",
   "execution_count": 73,
   "metadata": {},
   "outputs": [],
   "source": [
    "#Import Gradio\n",
    "\n",
    "import gradio as gr\n",
    "\n",
    "# Load the pre-trained model\n",
    "loaded_model = pickle.load(open(\"modelDT.pkl\", \"rb\"))"
   ]
  },
  {
   "cell_type": "code",
   "execution_count": 94,
   "metadata": {},
   "outputs": [
    {
     "name": "stdout",
     "output_type": "stream",
     "text": [
      "Running on local URL:  http://127.0.0.1:7878\n",
      "\n",
      "To create a public link, set `share=True` in `launch()`.\n"
     ]
    },
    {
     "data": {
      "text/html": [
       "<div><iframe src=\"http://127.0.0.1:7878/\" width=\"100%\" height=\"500\" allow=\"autoplay; camera; microphone; clipboard-read; clipboard-write;\" frameborder=\"0\" allowfullscreen></iframe></div>"
      ],
      "text/plain": [
       "<IPython.core.display.HTML object>"
      ]
     },
     "metadata": {},
     "output_type": "display_data"
    },
    {
     "data": {
      "text/plain": []
     },
     "execution_count": 94,
     "metadata": {},
     "output_type": "execute_result"
    },
    {
     "name": "stdout",
     "output_type": "stream",
     "text": [
      "IMPORTANT: You are using gradio version 4.27.0, however version 4.29.0 is available, please upgrade.\n",
      "--------\n"
     ]
    }
   ],
   "source": [
    "import gradio as gr\n",
    "import pickle\n",
    "import pandas as pd\n",
    "\n",
    "# Load the pre-trained model\n",
    "loaded_model = pickle.load(open(\"modelDT.pkl\", \"rb\"))\n",
    "\n",
    "# Define label mappings for encoded categories\n",
    "label_mappings = {\n",
    "    \"BookedHotel\": {\n",
    "        0: \"False\",\n",
    "        1: \"True\",\n",
    "     },  \n",
    "    \"AccountSyncedToSocialMedia\": {\n",
    "        0: \"False\",\n",
    "        1: \"True\",\n",
    "    },\n",
    "    \"FrequentFlyer_No\": {\n",
    "        0: \"False\",\n",
    "        1: \"True\",\n",
    "    },\n",
    "    \"FrequentFlyer_Yes\": {\n",
    "        0: \"False\",\n",
    "        1: \"True\",\n",
    "    },\n",
    "}\n",
    "\n",
    "def decode_categories(encoded_data):\n",
    "    decoded_data = encoded_data.copy()\n",
    "    for feature, mapping in label_mappings.items():\n",
    "        decoded_data[feature] = decoded_data[feature].map(mapping)\n",
    "    return decoded_data\n",
    "\n",
    "def predict(Age, AnnualIncomeClass, ServicesOpted, BookedHotel, AccountSyncedToSocialMedia, FrequentFlyer_No, FrequentFlyer_Yes):\n",
    "    try:\n",
    "        # Create a DataFrame for the input features\n",
    "        data = pd.DataFrame({\n",
    "            'Age': [Age],\n",
    "            'AnnualIncomeClass': [AnnualIncomeClass],\n",
    "            'ServicesOpted': [ServicesOpted],\n",
    "            'BookedHotel': [BookedHotel],\n",
    "            'AccountSyncedToSocialMedia': [AccountSyncedToSocialMedia],\n",
    "            'FrequentFlyer_No': [FrequentFlyer_No],\n",
    "            'FrequentFlyer_Yes': [FrequentFlyer_Yes]\n",
    "        })\n",
    "\n",
    "        # Decode the categories for better user understanding\n",
    "        decoded_data = decode_categories(data)\n",
    "\n",
    "        # Make prediction\n",
    "        prediction = loaded_model.predict(decoded_data)\n",
    "\n",
    "        # Map prediction to churn\n",
    "        churn = 'Potential Churner' if prediction[0] == 1 else 'Customer will not churn'\n",
    "\n",
    "        return churn\n",
    "\n",
    "    except Exception as e:\n",
    "        # Print error message and return None\n",
    "        print(\"Error:\", e)\n",
    "        return None\n",
    "\n",
    "# Define the Gradio interface\n",
    "iface = gr.Interface(\n",
    "    fn=predict,\n",
    "    inputs=[\n",
    "        gr.Slider(minimum=1, maximum=500, label=\"Total Number of Orders\"),\n",
    "        gr.Radio([\"1\", \"2\", \"3\"], label=\"Monetary Value Class\"),\n",
    "        gr.Slider(minimum=1, maximum=500, label=\"Days last active\"),\n",
    "        #gr.Radio([\"0\", \"1\", \"2\", \"3\", \"4\", \"5\",\"6\"], label=\"Monetary Value\"),\n",
    "        gr.Checkbox(label=\"Reserved a Ride\"),\n",
    "        gr.Checkbox(label=\"Contacted Customer Support\"),\n",
    "        gr.Checkbox(label=\"Not a Frequent rider\"),\n",
    "        gr.Checkbox(label=\"Frequent rider\"),\n",
    "    ],\n",
    "    outputs=\"text\",\n",
    "    title=\"CUSTOMER CHURN PREDICTION\",\n",
    "    description=\"Predict whether a customer will churn based on their behaviour.\"\n",
    ")\n",
    "\n",
    "# Launch the interface\n",
    "iface.launch()"
   ]
  },
  {
   "cell_type": "code",
   "execution_count": 77,
   "metadata": {},
   "outputs": [
    {
     "name": "stdout",
     "output_type": "stream",
     "text": [
      "Requirement already satisfied: gradio in /opt/anaconda3/lib/python3.11/site-packages (4.31.3)\n",
      "IMPORTANT: You are using gradio version 4.27.0, however version 4.29.0 is available, please upgrade.\n",
      "--------\n",
      "Requirement already satisfied: aiofiles<24.0,>=22.0 in /opt/anaconda3/lib/python3.11/site-packages (from gradio) (23.2.1)\n",
      "Requirement already satisfied: altair<6.0,>=4.2.0 in /opt/anaconda3/lib/python3.11/site-packages (from gradio) (5.0.1)\n",
      "Requirement already satisfied: fastapi in /opt/anaconda3/lib/python3.11/site-packages (from gradio) (0.111.0)\n",
      "Requirement already satisfied: ffmpy in /opt/anaconda3/lib/python3.11/site-packages (from gradio) (0.3.2)\n",
      "Requirement already satisfied: gradio-client==0.16.3 in /opt/anaconda3/lib/python3.11/site-packages (from gradio) (0.16.3)\n",
      "Requirement already satisfied: httpx>=0.24.1 in /opt/anaconda3/lib/python3.11/site-packages (from gradio) (0.27.0)\n",
      "Requirement already satisfied: huggingface-hub>=0.19.3 in /opt/anaconda3/lib/python3.11/site-packages (from gradio) (0.23.0)\n",
      "Requirement already satisfied: importlib-resources<7.0,>=1.3 in /opt/anaconda3/lib/python3.11/site-packages (from gradio) (6.4.0)\n",
      "Requirement already satisfied: jinja2<4.0 in /opt/anaconda3/lib/python3.11/site-packages (from gradio) (3.1.3)\n",
      "Requirement already satisfied: markupsafe~=2.0 in /opt/anaconda3/lib/python3.11/site-packages (from gradio) (2.1.3)\n",
      "Requirement already satisfied: matplotlib~=3.0 in /opt/anaconda3/lib/python3.11/site-packages (from gradio) (3.8.0)\n",
      "Requirement already satisfied: numpy~=1.0 in /opt/anaconda3/lib/python3.11/site-packages (from gradio) (1.26.4)\n",
      "Requirement already satisfied: orjson~=3.0 in /opt/anaconda3/lib/python3.11/site-packages (from gradio) (3.10.3)\n",
      "Requirement already satisfied: packaging in /opt/anaconda3/lib/python3.11/site-packages (from gradio) (23.1)\n",
      "Requirement already satisfied: pandas<3.0,>=1.0 in /opt/anaconda3/lib/python3.11/site-packages (from gradio) (2.1.4)\n",
      "Requirement already satisfied: pillow<11.0,>=8.0 in /opt/anaconda3/lib/python3.11/site-packages (from gradio) (10.2.0)\n",
      "Requirement already satisfied: pydantic>=2.0 in /opt/anaconda3/lib/python3.11/site-packages (from gradio) (2.7.1)\n",
      "Requirement already satisfied: pydub in /opt/anaconda3/lib/python3.11/site-packages (from gradio) (0.25.1)\n",
      "Requirement already satisfied: python-multipart>=0.0.9 in /opt/anaconda3/lib/python3.11/site-packages (from gradio) (0.0.9)\n",
      "Requirement already satisfied: pyyaml<7.0,>=5.0 in /opt/anaconda3/lib/python3.11/site-packages (from gradio) (6.0.1)\n",
      "Requirement already satisfied: ruff>=0.2.2 in /opt/anaconda3/lib/python3.11/site-packages (from gradio) (0.4.4)\n",
      "Requirement already satisfied: semantic-version~=2.0 in /opt/anaconda3/lib/python3.11/site-packages (from gradio) (2.10.0)\n",
      "Requirement already satisfied: tomlkit==0.12.0 in /opt/anaconda3/lib/python3.11/site-packages (from gradio) (0.12.0)\n",
      "Requirement already satisfied: typer<1.0,>=0.12 in /opt/anaconda3/lib/python3.11/site-packages (from gradio) (0.12.3)\n",
      "Requirement already satisfied: typing-extensions~=4.0 in /opt/anaconda3/lib/python3.11/site-packages (from gradio) (4.9.0)\n",
      "Requirement already satisfied: urllib3~=2.0 in /opt/anaconda3/lib/python3.11/site-packages (from gradio) (2.0.7)\n",
      "Requirement already satisfied: uvicorn>=0.14.0 in /opt/anaconda3/lib/python3.11/site-packages (from gradio) (0.29.0)\n",
      "Requirement already satisfied: fsspec in /opt/anaconda3/lib/python3.11/site-packages (from gradio-client==0.16.3->gradio) (2023.10.0)\n",
      "Requirement already satisfied: websockets<12.0,>=10.0 in /opt/anaconda3/lib/python3.11/site-packages (from gradio-client==0.16.3->gradio) (11.0.3)\n",
      "Requirement already satisfied: jsonschema>=3.0 in /opt/anaconda3/lib/python3.11/site-packages (from altair<6.0,>=4.2.0->gradio) (4.19.2)\n",
      "Requirement already satisfied: toolz in /opt/anaconda3/lib/python3.11/site-packages (from altair<6.0,>=4.2.0->gradio) (0.12.0)\n",
      "Requirement already satisfied: anyio in /opt/anaconda3/lib/python3.11/site-packages (from httpx>=0.24.1->gradio) (4.2.0)\n",
      "Requirement already satisfied: certifi in /opt/anaconda3/lib/python3.11/site-packages (from httpx>=0.24.1->gradio) (2024.2.2)\n",
      "Requirement already satisfied: httpcore==1.* in /opt/anaconda3/lib/python3.11/site-packages (from httpx>=0.24.1->gradio) (1.0.5)\n",
      "Requirement already satisfied: idna in /opt/anaconda3/lib/python3.11/site-packages (from httpx>=0.24.1->gradio) (3.4)\n",
      "Requirement already satisfied: sniffio in /opt/anaconda3/lib/python3.11/site-packages (from httpx>=0.24.1->gradio) (1.3.0)\n",
      "Requirement already satisfied: h11<0.15,>=0.13 in /opt/anaconda3/lib/python3.11/site-packages (from httpcore==1.*->httpx>=0.24.1->gradio) (0.14.0)\n",
      "Requirement already satisfied: filelock in /opt/anaconda3/lib/python3.11/site-packages (from huggingface-hub>=0.19.3->gradio) (3.13.1)\n",
      "Requirement already satisfied: requests in /opt/anaconda3/lib/python3.11/site-packages (from huggingface-hub>=0.19.3->gradio) (2.31.0)\n",
      "Requirement already satisfied: tqdm>=4.42.1 in /opt/anaconda3/lib/python3.11/site-packages (from huggingface-hub>=0.19.3->gradio) (4.65.0)\n",
      "Requirement already satisfied: contourpy>=1.0.1 in /opt/anaconda3/lib/python3.11/site-packages (from matplotlib~=3.0->gradio) (1.2.0)\n",
      "Requirement already satisfied: cycler>=0.10 in /opt/anaconda3/lib/python3.11/site-packages (from matplotlib~=3.0->gradio) (0.11.0)\n",
      "Requirement already satisfied: fonttools>=4.22.0 in /opt/anaconda3/lib/python3.11/site-packages (from matplotlib~=3.0->gradio) (4.25.0)\n",
      "Requirement already satisfied: kiwisolver>=1.0.1 in /opt/anaconda3/lib/python3.11/site-packages (from matplotlib~=3.0->gradio) (1.4.4)\n",
      "Requirement already satisfied: pyparsing>=2.3.1 in /opt/anaconda3/lib/python3.11/site-packages (from matplotlib~=3.0->gradio) (3.0.9)\n",
      "Requirement already satisfied: python-dateutil>=2.7 in /opt/anaconda3/lib/python3.11/site-packages (from matplotlib~=3.0->gradio) (2.8.2)\n",
      "Requirement already satisfied: pytz>=2020.1 in /opt/anaconda3/lib/python3.11/site-packages (from pandas<3.0,>=1.0->gradio) (2023.3.post1)\n",
      "Requirement already satisfied: tzdata>=2022.1 in /opt/anaconda3/lib/python3.11/site-packages (from pandas<3.0,>=1.0->gradio) (2023.3)\n",
      "Requirement already satisfied: annotated-types>=0.4.0 in /opt/anaconda3/lib/python3.11/site-packages (from pydantic>=2.0->gradio) (0.6.0)\n",
      "Requirement already satisfied: pydantic-core==2.18.2 in /opt/anaconda3/lib/python3.11/site-packages (from pydantic>=2.0->gradio) (2.18.2)\n",
      "Requirement already satisfied: click>=8.0.0 in /opt/anaconda3/lib/python3.11/site-packages (from typer<1.0,>=0.12->gradio) (8.1.7)\n",
      "Requirement already satisfied: shellingham>=1.3.0 in /opt/anaconda3/lib/python3.11/site-packages (from typer<1.0,>=0.12->gradio) (1.5.4)\n",
      "Requirement already satisfied: rich>=10.11.0 in /opt/anaconda3/lib/python3.11/site-packages (from typer<1.0,>=0.12->gradio) (13.3.5)\n",
      "Requirement already satisfied: starlette<0.38.0,>=0.37.2 in /opt/anaconda3/lib/python3.11/site-packages (from fastapi->gradio) (0.37.2)\n",
      "Requirement already satisfied: fastapi-cli>=0.0.2 in /opt/anaconda3/lib/python3.11/site-packages (from fastapi->gradio) (0.0.3)\n",
      "Requirement already satisfied: ujson!=4.0.2,!=4.1.0,!=4.2.0,!=4.3.0,!=5.0.0,!=5.1.0,>=4.0.1 in /opt/anaconda3/lib/python3.11/site-packages (from fastapi->gradio) (5.4.0)\n",
      "Requirement already satisfied: email_validator>=2.0.0 in /opt/anaconda3/lib/python3.11/site-packages (from fastapi->gradio) (2.1.1)\n",
      "Requirement already satisfied: dnspython>=2.0.0 in /opt/anaconda3/lib/python3.11/site-packages (from email_validator>=2.0.0->fastapi->gradio) (2.6.1)\n",
      "Requirement already satisfied: attrs>=22.2.0 in /opt/anaconda3/lib/python3.11/site-packages (from jsonschema>=3.0->altair<6.0,>=4.2.0->gradio) (23.1.0)\n",
      "Requirement already satisfied: jsonschema-specifications>=2023.03.6 in /opt/anaconda3/lib/python3.11/site-packages (from jsonschema>=3.0->altair<6.0,>=4.2.0->gradio) (2023.7.1)\n",
      "Requirement already satisfied: referencing>=0.28.4 in /opt/anaconda3/lib/python3.11/site-packages (from jsonschema>=3.0->altair<6.0,>=4.2.0->gradio) (0.30.2)\n",
      "Requirement already satisfied: rpds-py>=0.7.1 in /opt/anaconda3/lib/python3.11/site-packages (from jsonschema>=3.0->altair<6.0,>=4.2.0->gradio) (0.10.6)\n",
      "Requirement already satisfied: six>=1.5 in /opt/anaconda3/lib/python3.11/site-packages (from python-dateutil>=2.7->matplotlib~=3.0->gradio) (1.16.0)\n",
      "Requirement already satisfied: markdown-it-py<3.0.0,>=2.2.0 in /opt/anaconda3/lib/python3.11/site-packages (from rich>=10.11.0->typer<1.0,>=0.12->gradio) (2.2.0)\n",
      "Requirement already satisfied: pygments<3.0.0,>=2.13.0 in /opt/anaconda3/lib/python3.11/site-packages (from rich>=10.11.0->typer<1.0,>=0.12->gradio) (2.15.1)\n",
      "Requirement already satisfied: httptools>=0.5.0 in /opt/anaconda3/lib/python3.11/site-packages (from uvicorn[standard]>=0.12.0->fastapi->gradio) (0.6.1)\n"
     ]
    },
    {
     "name": "stdout",
     "output_type": "stream",
     "text": [
      "Requirement already satisfied: python-dotenv>=0.13 in /opt/anaconda3/lib/python3.11/site-packages (from uvicorn[standard]>=0.12.0->fastapi->gradio) (0.21.0)\r\n",
      "Requirement already satisfied: uvloop!=0.15.0,!=0.15.1,>=0.14.0 in /opt/anaconda3/lib/python3.11/site-packages (from uvicorn[standard]>=0.12.0->fastapi->gradio) (0.19.0)\r\n",
      "Requirement already satisfied: watchfiles>=0.13 in /opt/anaconda3/lib/python3.11/site-packages (from uvicorn[standard]>=0.12.0->fastapi->gradio) (0.21.0)\r\n",
      "Requirement already satisfied: charset-normalizer<4,>=2 in /opt/anaconda3/lib/python3.11/site-packages (from requests->huggingface-hub>=0.19.3->gradio) (2.0.4)\r\n",
      "Requirement already satisfied: mdurl~=0.1 in /opt/anaconda3/lib/python3.11/site-packages (from markdown-it-py<3.0.0,>=2.2.0->rich>=10.11.0->typer<1.0,>=0.12->gradio) (0.1.0)\r\n"
     ]
    }
   ],
   "source": [
    "!pip install --upgrade gradio"
   ]
  },
  {
   "cell_type": "code",
   "execution_count": null,
   "metadata": {},
   "outputs": [],
   "source": []
  }
 ],
 "metadata": {
  "colab": {
   "provenance": []
  },
  "kernelspec": {
   "display_name": "Python 3 (ipykernel)",
   "language": "python",
   "name": "python3"
  },
  "language_info": {
   "codemirror_mode": {
    "name": "ipython",
    "version": 3
   },
   "file_extension": ".py",
   "mimetype": "text/x-python",
   "name": "python",
   "nbconvert_exporter": "python",
   "pygments_lexer": "ipython3",
   "version": "3.9.12"
  }
 },
 "nbformat": 4,
 "nbformat_minor": 1
}
